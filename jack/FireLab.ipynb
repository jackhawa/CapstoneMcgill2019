{
 "cells": [
  {
   "cell_type": "code",
   "execution_count": 2,
   "metadata": {},
   "outputs": [
    {
     "data": {
      "text/html": [
       "Done"
      ],
      "text/plain": [
       "QueryResultsTable job_9ELVChr6DTDoSVDbfuI4duHoGejt"
      ]
     },
     "execution_count": 2,
     "metadata": {},
     "output_type": "execute_result"
    }
   ],
   "source": [
    "%%bq query\n",
    "CREATE OR REPLACE MODEL `capstone-mcgill-2019.fire_ds.fire_model`\n",
    "OPTIONS\n",
    "  (model_type='logistic_reg',\n",
    "    input_label_cols=['IS_FIRE']) AS\n",
    "SELECT\n",
    "  Month,\n",
    "  DayOfWeek,\n",
    "  Weekend, Holiday, TIME_BUCKET, NOM_ARROND, \n",
    "  Mean_Temp, Heat_Deg_Days, Cool_Deg_Days,\n",
    "  IS_FIRE\n",
    "FROM\n",
    "  `capstone-mcgill-2019.fire_ds.fire_interventions_data`"
   ]
  },
  {
   "cell_type": "code",
   "execution_count": 3,
   "metadata": {},
   "outputs": [
    {
     "data": {
      "text/html": [
       "\n",
       "    <div class=\"bqtv\" id=\"1_156376392115\"><table><tr><th>precision</th><th>recall</th><th>accuracy</th><th>f1_score</th><th>log_loss</th><th>roc_auc</th></tr><tr><td>0.639721148582</td><td>0.674349279517</td><td>0.64728425985</td><td>0.656578957129</td><td>0.635124077679</td><td>0.696672</td></tr></table></div>\n",
       "    <br />(rows: 1, time: 4.4s,    92MB processed, job: job_iZoGYevXWMI1XGUxUAaQlo-bMXvn)<br />\n",
       "    <script src=\"/static/components/requirejs/require.js\"></script>\n",
       "    <script>\n",
       "      require.config({\n",
       "        paths: {\n",
       "          base: '/static/base',\n",
       "          d3: '//cdnjs.cloudflare.com/ajax/libs/d3/3.4.13/d3',\n",
       "          plotly: 'https://cdn.plot.ly/plotly-1.5.1.min.js?noext',\n",
       "          jquery: '//ajax.googleapis.com/ajax/libs/jquery/2.0.0/jquery.min'\n",
       "        },\n",
       "        map: {\n",
       "          '*': {\n",
       "            datalab: 'nbextensions/gcpdatalab'\n",
       "          }\n",
       "        },\n",
       "        shim: {\n",
       "          plotly: {\n",
       "            deps: ['d3', 'jquery'],\n",
       "            exports: 'plotly'\n",
       "          }\n",
       "        }\n",
       "      });\n",
       "\n",
       "      require(['datalab/charting', 'datalab/element!1_156376392115', 'base/js/events',\n",
       "          'datalab/style!/nbextensions/gcpdatalab/charting.css'],\n",
       "        function(charts, dom, events) {\n",
       "          charts.render('gcharts', dom, events, 'table', [], {\"rows\": [{\"c\": [{\"v\": 0.6397211485816199}, {\"v\": 0.6743492795169478}, {\"v\": 0.6472842598500939}, {\"v\": 0.6565789571293982}, {\"v\": 0.6351240776787783}, {\"v\": 0.696672}]}], \"cols\": [{\"type\": \"number\", \"id\": \"precision\", \"label\": \"precision\"}, {\"type\": \"number\", \"id\": \"recall\", \"label\": \"recall\"}, {\"type\": \"number\", \"id\": \"accuracy\", \"label\": \"accuracy\"}, {\"type\": \"number\", \"id\": \"f1_score\", \"label\": \"f1_score\"}, {\"type\": \"number\", \"id\": \"log_loss\", \"label\": \"log_loss\"}, {\"type\": \"number\", \"id\": \"roc_auc\", \"label\": \"roc_auc\"}]},\n",
       "            {\n",
       "              pageSize: 25,\n",
       "              cssClassNames:  {\n",
       "                tableRow: 'gchart-table-row',\n",
       "                headerRow: 'gchart-table-headerrow',\n",
       "                oddTableRow: 'gchart-table-oddrow',\n",
       "                selectedTableRow: 'gchart-table-selectedrow',\n",
       "                hoverTableRow: 'gchart-table-hoverrow',\n",
       "                tableCell: 'gchart-table-cell',\n",
       "                headerCell: 'gchart-table-headercell',\n",
       "                rowNumberCell: 'gchart-table-rownumcell'\n",
       "              }\n",
       "            },\n",
       "            {source_index: 0, fields: 'precision,recall,accuracy,f1_score,log_loss,roc_auc'},\n",
       "            0,\n",
       "            1);\n",
       "        }\n",
       "      );\n",
       "    </script>\n",
       "  "
      ],
      "text/plain": [
       "QueryResultsTable job_iZoGYevXWMI1XGUxUAaQlo-bMXvn"
      ]
     },
     "execution_count": 3,
     "metadata": {},
     "output_type": "execute_result"
    }
   ],
   "source": [
    "%%bq query\n",
    "SELECT\n",
    "  *\n",
    "FROM\n",
    "  ML.EVALUATE(MODEL `capstone-mcgill-2019.fire_ds.fire_model`,\n",
    "    (\n",
    "      SELECT\n",
    "        Month,\n",
    "        DayOfWeek,\n",
    "        Weekend, Holiday, TIME_BUCKET, NOM_ARROND, \n",
    "        Mean_Temp, Heat_Deg_Days, Cool_Deg_Days,\n",
    "        IS_FIRE\n",
    "      FROM\n",
    "         `capstone-mcgill-2019.fire_ds.fire_interventions_data`\n",
    "    )\n",
    "  )"
   ]
  },
  {
   "cell_type": "code",
   "execution_count": 8,
   "metadata": {},
   "outputs": [
    {
     "data": {
      "text/html": [
       "\n",
       "    <div class=\"bqtv\" id=\"5_156376441282\"><table><tr><th>Month</th><th>DayOfWeek</th><th>Weekend</th><th>Holiday</th><th>TIME_BUCKET</th><th>NOM_ARROND</th><th>Mean_Temp</th><th>Heat_Deg_Days</th><th>Cool_Deg_Days</th><th>IS_FIRE</th><th>predicted_IS_FIRE</th></tr><tr><td>4</td><td>4</td><td>0.0</td><td>0.0</td><td>5</td><td>Verdun</td><td>9.8</td><td>8.2</td><td>0.0</td><td>False</td><td>True</td></tr><tr><td>3</td><td>3</td><td>0.0</td><td>0.0</td><td>7</td><td>Plateau Mont-Royal</td><td>2.6</td><td>15.4</td><td>0.0</td><td>False</td><td>True</td></tr><tr><td>8</td><td>4</td><td>0.0</td><td>0.0</td><td>5</td><td>Saint-Laurent</td><td>18.165875762</td><td>0.0</td><td>0.165875761974</td><td>True</td><td>True</td></tr><tr><td>10</td><td>1</td><td>0.0</td><td>0.0</td><td>6</td><td>Ville-Marie</td><td>17.0</td><td>1.0</td><td>0.0</td><td>False</td><td>True</td></tr><tr><td>7</td><td>4</td><td>0.0</td><td>1.0</td><td>1</td><td>Ville-Marie</td><td>21.9</td><td>0.0</td><td>3.9</td><td>False</td><td>False</td></tr><tr><td>7</td><td>4</td><td>0.0</td><td>0.0</td><td>7</td><td>Verdun</td><td>23.4502814156</td><td>0.0</td><td>5.45028141564</td><td>True</td><td>True</td></tr><tr><td>5</td><td>3</td><td>0.0</td><td>0.0</td><td>8</td><td>Rivière-des-Prairies / Pointe-aux-Trembles</td><td>25.3</td><td>0.0</td><td>7.3</td><td>True</td><td>True</td></tr><tr><td>4</td><td>4</td><td>0.0</td><td>0.0</td><td>6</td><td>Côte-des-Neiges / Notre-Dame-de-Grâce</td><td>8.8</td><td>9.2</td><td>0.0</td><td>False</td><td>True</td></tr><tr><td>7</td><td>5</td><td>1.0</td><td>0.0</td><td>1</td><td>Mercier / Hochelaga-Maisonneuve</td><td>21.4</td><td>0.0</td><td>3.4</td><td>False</td><td>True</td></tr><tr><td>6</td><td>3</td><td>0.0</td><td>0.0</td><td>8</td><td>Ville-Marie</td><td>14.5</td><td>3.5</td><td>0.0</td><td>False</td><td>True</td></tr><tr><td>12</td><td>2</td><td>0.0</td><td>0.0</td><td>7</td><td>Côte-des-Neiges / Notre-Dame-de-Grâce</td><td>-10.8791992824</td><td>28.8791992824</td><td>0.0</td><td>True</td><td>False</td></tr><tr><td>12</td><td>4</td><td>0.0</td><td>0.0</td><td>8</td><td>Rosemont / Petite-Patrie</td><td>4.6820168603</td><td>13.3179831397</td><td>0.0</td><td>True</td><td>False</td></tr><tr><td>8</td><td>1</td><td>0.0</td><td>0.0</td><td>7</td><td>Plateau Mont-Royal</td><td>19.0</td><td>0.0</td><td>1.0</td><td>True</td><td>True</td></tr><tr><td>11</td><td>3</td><td>0.0</td><td>0.0</td><td>8</td><td>Saint-Laurent</td><td>11.9</td><td>6.1</td><td>0.0</td><td>False</td><td>True</td></tr><tr><td>10</td><td>6</td><td>1.0</td><td>0.0</td><td>7</td><td>Verdun</td><td>9.0</td><td>9.0</td><td>0.0</td><td>False</td><td>True</td></tr><tr><td>12</td><td>2</td><td>0.0</td><td>0.0</td><td>6</td><td>Plateau Mont-Royal</td><td>-20.6</td><td>38.6</td><td>0.0</td><td>False</td><td>False</td></tr><tr><td>1</td><td>1</td><td>0.0</td><td>0.0</td><td>8</td><td>Saint-Léonard</td><td>-3.3</td><td>21.3</td><td>0.0</td><td>False</td><td>False</td></tr><tr><td>4</td><td>2</td><td>0.0</td><td>0.0</td><td>4</td><td>Westmount</td><td>8.1</td><td>9.9</td><td>0.0</td><td>False</td><td>False</td></tr><tr><td>12</td><td>0</td><td>0.0</td><td>0.0</td><td>4</td><td>Dorval</td><td>-6.7</td><td>24.7</td><td>0.0</td><td>False</td><td>False</td></tr><tr><td>5</td><td>1</td><td>0.0</td><td>0.0</td><td>5</td><td>Pierrefonds / Roxboro</td><td>12.6975757069</td><td>5.3024242931</td><td>0.0</td><td>True</td><td>False</td></tr><tr><td>9</td><td>5</td><td>1.0</td><td>0.0</td><td>5</td><td>Ahuntsic / Cartierville</td><td>10.7</td><td>7.3</td><td>0.0</td><td>True</td><td>True</td></tr><tr><td>7</td><td>5</td><td>1.0</td><td>0.0</td><td>1</td><td>Ville-Marie</td><td>24.2</td><td>0.0</td><td>6.2</td><td>False</td><td>True</td></tr><tr><td>5</td><td>1</td><td>0.0</td><td>0.0</td><td>4</td><td>Saint-Laurent</td><td>22.9260977466</td><td>0.0</td><td>4.92609774662</td><td>True</td><td>True</td></tr><tr><td>2</td><td>5</td><td>1.0</td><td>0.0</td><td>6</td><td>Mercier / Hochelaga-Maisonneuve</td><td>-12.2</td><td>30.2</td><td>0.0</td><td>False</td><td>False</td></tr><tr><td>3</td><td>6</td><td>1.0</td><td>0.0</td><td>8</td><td>Plateau Mont-Royal</td><td>0.853119592553</td><td>17.1468804074</td><td>0.0</td><td>True</td><td>True</td></tr></table></div>\n",
       "    <br />(rows: 50, time: 1.4s,    92MB processed, job: job_C3mgFHTovlId9NAycA4wpHNx_nDI)<br />\n",
       "    <script src=\"/static/components/requirejs/require.js\"></script>\n",
       "    <script>\n",
       "      require.config({\n",
       "        paths: {\n",
       "          base: '/static/base',\n",
       "          d3: '//cdnjs.cloudflare.com/ajax/libs/d3/3.4.13/d3',\n",
       "          plotly: 'https://cdn.plot.ly/plotly-1.5.1.min.js?noext',\n",
       "          jquery: '//ajax.googleapis.com/ajax/libs/jquery/2.0.0/jquery.min'\n",
       "        },\n",
       "        map: {\n",
       "          '*': {\n",
       "            datalab: 'nbextensions/gcpdatalab'\n",
       "          }\n",
       "        },\n",
       "        shim: {\n",
       "          plotly: {\n",
       "            deps: ['d3', 'jquery'],\n",
       "            exports: 'plotly'\n",
       "          }\n",
       "        }\n",
       "      });\n",
       "\n",
       "      require(['datalab/charting', 'datalab/element!5_156376441282', 'base/js/events',\n",
       "          'datalab/style!/nbextensions/gcpdatalab/charting.css'],\n",
       "        function(charts, dom, events) {\n",
       "          charts.render('gcharts', dom, events, 'paged_table', [], {\"rows\": [{\"c\": [{\"v\": 4}, {\"v\": 4}, {\"v\": 0.0}, {\"v\": 0.0}, {\"v\": 5}, {\"v\": \"Verdun\"}, {\"v\": 9.8}, {\"v\": 8.2}, {\"v\": 0.0}, {\"v\": false}, {\"v\": true}]}, {\"c\": [{\"v\": 3}, {\"v\": 3}, {\"v\": 0.0}, {\"v\": 0.0}, {\"v\": 7}, {\"v\": \"Plateau Mont-Royal\"}, {\"v\": 2.6}, {\"v\": 15.4}, {\"v\": 0.0}, {\"v\": false}, {\"v\": true}]}, {\"c\": [{\"v\": 8}, {\"v\": 4}, {\"v\": 0.0}, {\"v\": 0.0}, {\"v\": 5}, {\"v\": \"Saint-Laurent\"}, {\"v\": 18.165875761974483}, {\"v\": 0.0}, {\"v\": 0.16587576197448217}, {\"v\": true}, {\"v\": true}]}, {\"c\": [{\"v\": 10}, {\"v\": 1}, {\"v\": 0.0}, {\"v\": 0.0}, {\"v\": 6}, {\"v\": \"Ville-Marie\"}, {\"v\": 17.0}, {\"v\": 1.0}, {\"v\": 0.0}, {\"v\": false}, {\"v\": true}]}, {\"c\": [{\"v\": 7}, {\"v\": 4}, {\"v\": 0.0}, {\"v\": 1.0}, {\"v\": 1}, {\"v\": \"Ville-Marie\"}, {\"v\": 21.9}, {\"v\": 0.0}, {\"v\": 3.9}, {\"v\": false}, {\"v\": false}]}, {\"c\": [{\"v\": 7}, {\"v\": 4}, {\"v\": 0.0}, {\"v\": 0.0}, {\"v\": 7}, {\"v\": \"Verdun\"}, {\"v\": 23.450281415641555}, {\"v\": 0.0}, {\"v\": 5.450281415641558}, {\"v\": true}, {\"v\": true}]}, {\"c\": [{\"v\": 5}, {\"v\": 3}, {\"v\": 0.0}, {\"v\": 0.0}, {\"v\": 8}, {\"v\": \"Rivi\\u00e8re-des-Prairies / Pointe-aux-Trembles\"}, {\"v\": 25.3}, {\"v\": 0.0}, {\"v\": 7.3}, {\"v\": true}, {\"v\": true}]}, {\"c\": [{\"v\": 4}, {\"v\": 4}, {\"v\": 0.0}, {\"v\": 0.0}, {\"v\": 6}, {\"v\": \"C\\u00f4te-des-Neiges / Notre-Dame-de-Gr\\u00e2ce\"}, {\"v\": 8.8}, {\"v\": 9.2}, {\"v\": 0.0}, {\"v\": false}, {\"v\": true}]}, {\"c\": [{\"v\": 7}, {\"v\": 5}, {\"v\": 1.0}, {\"v\": 0.0}, {\"v\": 1}, {\"v\": \"Mercier / Hochelaga-Maisonneuve\"}, {\"v\": 21.4}, {\"v\": 0.0}, {\"v\": 3.4}, {\"v\": false}, {\"v\": true}]}, {\"c\": [{\"v\": 6}, {\"v\": 3}, {\"v\": 0.0}, {\"v\": 0.0}, {\"v\": 8}, {\"v\": \"Ville-Marie\"}, {\"v\": 14.5}, {\"v\": 3.5}, {\"v\": 0.0}, {\"v\": false}, {\"v\": true}]}, {\"c\": [{\"v\": 12}, {\"v\": 2}, {\"v\": 0.0}, {\"v\": 0.0}, {\"v\": 7}, {\"v\": \"C\\u00f4te-des-Neiges / Notre-Dame-de-Gr\\u00e2ce\"}, {\"v\": -10.879199282430589}, {\"v\": 28.87919928243059}, {\"v\": 0.0}, {\"v\": true}, {\"v\": false}]}, {\"c\": [{\"v\": 12}, {\"v\": 4}, {\"v\": 0.0}, {\"v\": 0.0}, {\"v\": 8}, {\"v\": \"Rosemont / Petite-Patrie\"}, {\"v\": 4.682016860303779}, {\"v\": 13.31798313969622}, {\"v\": 0.0}, {\"v\": true}, {\"v\": false}]}, {\"c\": [{\"v\": 8}, {\"v\": 1}, {\"v\": 0.0}, {\"v\": 0.0}, {\"v\": 7}, {\"v\": \"Plateau Mont-Royal\"}, {\"v\": 19.0}, {\"v\": 0.0}, {\"v\": 1.0}, {\"v\": true}, {\"v\": true}]}, {\"c\": [{\"v\": 11}, {\"v\": 3}, {\"v\": 0.0}, {\"v\": 0.0}, {\"v\": 8}, {\"v\": \"Saint-Laurent\"}, {\"v\": 11.9}, {\"v\": 6.1}, {\"v\": 0.0}, {\"v\": false}, {\"v\": true}]}, {\"c\": [{\"v\": 10}, {\"v\": 6}, {\"v\": 1.0}, {\"v\": 0.0}, {\"v\": 7}, {\"v\": \"Verdun\"}, {\"v\": 9.0}, {\"v\": 9.0}, {\"v\": 0.0}, {\"v\": false}, {\"v\": true}]}, {\"c\": [{\"v\": 12}, {\"v\": 2}, {\"v\": 0.0}, {\"v\": 0.0}, {\"v\": 6}, {\"v\": \"Plateau Mont-Royal\"}, {\"v\": -20.6}, {\"v\": 38.6}, {\"v\": 0.0}, {\"v\": false}, {\"v\": false}]}, {\"c\": [{\"v\": 1}, {\"v\": 1}, {\"v\": 0.0}, {\"v\": 0.0}, {\"v\": 8}, {\"v\": \"Saint-L\\u00e9onard\"}, {\"v\": -3.3}, {\"v\": 21.3}, {\"v\": 0.0}, {\"v\": false}, {\"v\": false}]}, {\"c\": [{\"v\": 4}, {\"v\": 2}, {\"v\": 0.0}, {\"v\": 0.0}, {\"v\": 4}, {\"v\": \"Westmount\"}, {\"v\": 8.1}, {\"v\": 9.9}, {\"v\": 0.0}, {\"v\": false}, {\"v\": false}]}, {\"c\": [{\"v\": 12}, {\"v\": 0}, {\"v\": 0.0}, {\"v\": 0.0}, {\"v\": 4}, {\"v\": \"Dorval\"}, {\"v\": -6.7}, {\"v\": 24.7}, {\"v\": 0.0}, {\"v\": false}, {\"v\": false}]}, {\"c\": [{\"v\": 5}, {\"v\": 1}, {\"v\": 0.0}, {\"v\": 0.0}, {\"v\": 5}, {\"v\": \"Pierrefonds / Roxboro\"}, {\"v\": 12.69757570690204}, {\"v\": 5.302424293097961}, {\"v\": 0.0}, {\"v\": true}, {\"v\": false}]}, {\"c\": [{\"v\": 9}, {\"v\": 5}, {\"v\": 1.0}, {\"v\": 0.0}, {\"v\": 5}, {\"v\": \"Ahuntsic / Cartierville\"}, {\"v\": 10.7}, {\"v\": 7.3}, {\"v\": 0.0}, {\"v\": true}, {\"v\": true}]}, {\"c\": [{\"v\": 7}, {\"v\": 5}, {\"v\": 1.0}, {\"v\": 0.0}, {\"v\": 1}, {\"v\": \"Ville-Marie\"}, {\"v\": 24.2}, {\"v\": 0.0}, {\"v\": 6.2}, {\"v\": false}, {\"v\": true}]}, {\"c\": [{\"v\": 5}, {\"v\": 1}, {\"v\": 0.0}, {\"v\": 0.0}, {\"v\": 4}, {\"v\": \"Saint-Laurent\"}, {\"v\": 22.92609774662053}, {\"v\": 0.0}, {\"v\": 4.926097746620532}, {\"v\": true}, {\"v\": true}]}, {\"c\": [{\"v\": 2}, {\"v\": 5}, {\"v\": 1.0}, {\"v\": 0.0}, {\"v\": 6}, {\"v\": \"Mercier / Hochelaga-Maisonneuve\"}, {\"v\": -12.2}, {\"v\": 30.2}, {\"v\": 0.0}, {\"v\": false}, {\"v\": false}]}, {\"c\": [{\"v\": 3}, {\"v\": 6}, {\"v\": 1.0}, {\"v\": 0.0}, {\"v\": 8}, {\"v\": \"Plateau Mont-Royal\"}, {\"v\": 0.8531195925530166}, {\"v\": 17.146880407446982}, {\"v\": 0.0}, {\"v\": true}, {\"v\": true}]}], \"cols\": [{\"type\": \"number\", \"id\": \"Month\", \"label\": \"Month\"}, {\"type\": \"number\", \"id\": \"DayOfWeek\", \"label\": \"DayOfWeek\"}, {\"type\": \"number\", \"id\": \"Weekend\", \"label\": \"Weekend\"}, {\"type\": \"number\", \"id\": \"Holiday\", \"label\": \"Holiday\"}, {\"type\": \"number\", \"id\": \"TIME_BUCKET\", \"label\": \"TIME_BUCKET\"}, {\"type\": \"string\", \"id\": \"NOM_ARROND\", \"label\": \"NOM_ARROND\"}, {\"type\": \"number\", \"id\": \"Mean_Temp\", \"label\": \"Mean_Temp\"}, {\"type\": \"number\", \"id\": \"Heat_Deg_Days\", \"label\": \"Heat_Deg_Days\"}, {\"type\": \"number\", \"id\": \"Cool_Deg_Days\", \"label\": \"Cool_Deg_Days\"}, {\"type\": \"boolean\", \"id\": \"IS_FIRE\", \"label\": \"IS_FIRE\"}, {\"type\": \"boolean\", \"id\": \"predicted_IS_FIRE\", \"label\": \"predicted_IS_FIRE\"}]},\n",
       "            {\n",
       "              pageSize: 25,\n",
       "              cssClassNames:  {\n",
       "                tableRow: 'gchart-table-row',\n",
       "                headerRow: 'gchart-table-headerrow',\n",
       "                oddTableRow: 'gchart-table-oddrow',\n",
       "                selectedTableRow: 'gchart-table-selectedrow',\n",
       "                hoverTableRow: 'gchart-table-hoverrow',\n",
       "                tableCell: 'gchart-table-cell',\n",
       "                headerCell: 'gchart-table-headercell',\n",
       "                rowNumberCell: 'gchart-table-rownumcell'\n",
       "              }\n",
       "            },\n",
       "            {source_index: 4, fields: 'Month,DayOfWeek,Weekend,Holiday,TIME_BUCKET,NOM_ARROND,Mean_Temp,Heat_Deg_Days,Cool_Deg_Days,IS_FIRE,predicted_IS_FIRE'},\n",
       "            0,\n",
       "            50);\n",
       "        }\n",
       "      );\n",
       "    </script>\n",
       "  "
      ],
      "text/plain": [
       "QueryResultsTable job_C3mgFHTovlId9NAycA4wpHNx_nDI"
      ]
     },
     "execution_count": 8,
     "metadata": {},
     "output_type": "execute_result"
    }
   ],
   "source": [
    "%%bq query\n",
    "SELECT\n",
    "  Month,\n",
    "          DayOfWeek,\n",
    "          Weekend, Holiday, TIME_BUCKET, NOM_ARROND, \n",
    "          Mean_Temp, Heat_Deg_Days, Cool_Deg_Days,\n",
    "          IS_FIRE, predicted_IS_FIRE\n",
    "FROM\n",
    "  ML.PREDICT(MODEL `capstone-mcgill-2019.fire_ds.fire_model`,\n",
    "    (\n",
    "        SELECT\n",
    "          Month,\n",
    "          DayOfWeek,\n",
    "          Weekend, Holiday, TIME_BUCKET, NOM_ARROND, \n",
    "          Mean_Temp, Heat_Deg_Days, Cool_Deg_Days,\n",
    "          IS_FIRE\n",
    "        FROM\n",
    "          `capstone-mcgill-2019.fire_ds.fire_interventions_data`\n",
    "        ORDER BY RAND()\n",
    "        LIMIT 50\n",
    "      \n",
    "      )\n",
    "    )"
   ]
  }
 ],
 "metadata": {
  "kernelspec": {
   "display_name": "Python 2",
   "language": "python",
   "name": "python2"
  },
  "language_info": {
   "codemirror_mode": {
    "name": "ipython",
    "version": 2
   },
   "file_extension": ".py",
   "mimetype": "text/x-python",
   "name": "python",
   "nbconvert_exporter": "python",
   "pygments_lexer": "ipython2",
   "version": "2.7.15"
  }
 },
 "nbformat": 4,
 "nbformat_minor": 2
}
