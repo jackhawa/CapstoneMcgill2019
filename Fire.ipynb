{
  "nbformat": 4,
  "nbformat_minor": 0,
  "metadata": {
    "colab": {
      "name": "Fire.ipynb",
      "version": "0.3.2",
      "provenance": [],
      "include_colab_link": true
    },
    "kernelspec": {
      "name": "python3",
      "display_name": "Python 3"
    },
    "accelerator": "GPU"
  },
  "cells": [
    {
      "cell_type": "markdown",
      "metadata": {
        "id": "view-in-github",
        "colab_type": "text"
      },
      "source": [
        "<a href=\"https://colab.research.google.com/github/jackhawa/CapstoneMcgill2019/blob/master/Fire.ipynb\" target=\"_parent\"><img src=\"https://colab.research.google.com/assets/colab-badge.svg\" alt=\"Open In Colab\"/></a>"
      ]
    },
    {
      "cell_type": "code",
      "metadata": {
        "id": "mo3xlEydNy2s",
        "colab_type": "code",
        "colab": {}
      },
      "source": [
        "import numpy as np \n",
        "import pandas as pd \n",
        "import matplotlib.pyplot as plt\n",
        "import seaborn as sns\n",
        "from sklearn.cluster import KMeans\n",
        "import datetime \n",
        "%matplotlib inline"
      ],
      "execution_count": 0,
      "outputs": []
    },
    {
      "cell_type": "code",
      "metadata": {
        "id": "Oc2oA6tDODFu",
        "colab_type": "code",
        "colab": {
          "base_uri": "https://localhost:8080/",
          "height": 279
        },
        "outputId": "2c7cc10d-749c-4715-9de1-c8d6e5fd34b0"
      },
      "source": [
        "interventions_df = pd.read_csv('http://donnees.ville.montreal.qc.ca/dataset/701683f0-a838-4fe0-b4d6-a4964d9ea7f0/resource/9e67d2f3-9104-4af4-aac4-022df621a749/download/donneesouvertes-interventions-sim.csv', sep=\",\")\n",
        "interventions_df['CREATION_DATE_TIME'] = interventions_df['CREATION_DATE_TIME'].astype('datetime64[ns]')  \n",
        "interventions_df.head()"
      ],
      "execution_count": 41,
      "outputs": [
        {
          "output_type": "execute_result",
          "data": {
            "text/html": [
              "<div>\n",
              "<style scoped>\n",
              "    .dataframe tbody tr th:only-of-type {\n",
              "        vertical-align: middle;\n",
              "    }\n",
              "\n",
              "    .dataframe tbody tr th {\n",
              "        vertical-align: top;\n",
              "    }\n",
              "\n",
              "    .dataframe thead th {\n",
              "        text-align: right;\n",
              "    }\n",
              "</style>\n",
              "<table border=\"1\" class=\"dataframe\">\n",
              "  <thead>\n",
              "    <tr style=\"text-align: right;\">\n",
              "      <th></th>\n",
              "      <th>INCIDENT_NBR</th>\n",
              "      <th>CREATION_DATE_TIME</th>\n",
              "      <th>INCIDENT_TYPE_DESC</th>\n",
              "      <th>DESCRIPTION_GROUPE</th>\n",
              "      <th>CASERNE</th>\n",
              "      <th>NOM_VILLE</th>\n",
              "      <th>NOM_ARROND</th>\n",
              "      <th>DIVISION</th>\n",
              "      <th>NOMBRE_UNITES</th>\n",
              "      <th>CIV</th>\n",
              "      <th>MTM8_X</th>\n",
              "      <th>MTM8_Y</th>\n",
              "      <th>LONGITUDE</th>\n",
              "      <th>LATITUDE</th>\n",
              "    </tr>\n",
              "  </thead>\n",
              "  <tbody>\n",
              "    <tr>\n",
              "      <th>0</th>\n",
              "      <td>1168</td>\n",
              "      <td>2015-01-03 20:56:02</td>\n",
              "      <td>Premier répondant</td>\n",
              "      <td>1-REPOND</td>\n",
              "      <td>33</td>\n",
              "      <td>Montréal</td>\n",
              "      <td>Sud-Ouest</td>\n",
              "      <td>8</td>\n",
              "      <td>1.0</td>\n",
              "      <td>1.0</td>\n",
              "      <td>297283.0</td>\n",
              "      <td>5035433.1</td>\n",
              "      <td>-73.596117</td>\n",
              "      <td>45.458786</td>\n",
              "    </tr>\n",
              "    <tr>\n",
              "      <th>1</th>\n",
              "      <td>1171</td>\n",
              "      <td>2015-01-03 21:03:52</td>\n",
              "      <td>Alarme privé ou locale</td>\n",
              "      <td>Alarmes-incendies</td>\n",
              "      <td>22</td>\n",
              "      <td>Montréal</td>\n",
              "      <td>Saint-Léonard</td>\n",
              "      <td>4</td>\n",
              "      <td>4.0</td>\n",
              "      <td>1.0</td>\n",
              "      <td>299180.0</td>\n",
              "      <td>5049284.2</td>\n",
              "      <td>-73.572020</td>\n",
              "      <td>45.583442</td>\n",
              "    </tr>\n",
              "    <tr>\n",
              "      <th>2</th>\n",
              "      <td>1172</td>\n",
              "      <td>2015-01-03 21:07:00</td>\n",
              "      <td>Premier répondant</td>\n",
              "      <td>1-REPOND</td>\n",
              "      <td>9</td>\n",
              "      <td>Montréal</td>\n",
              "      <td>Villeray / St-Michel / Parc Extension</td>\n",
              "      <td>4</td>\n",
              "      <td>1.0</td>\n",
              "      <td>1.0</td>\n",
              "      <td>297259.6</td>\n",
              "      <td>5046768.2</td>\n",
              "      <td>-73.596589</td>\n",
              "      <td>45.560784</td>\n",
              "    </tr>\n",
              "    <tr>\n",
              "      <th>3</th>\n",
              "      <td>1177</td>\n",
              "      <td>2015-01-03 21:41:46</td>\n",
              "      <td>Premier répondant</td>\n",
              "      <td>1-REPOND</td>\n",
              "      <td>37</td>\n",
              "      <td>Montréal</td>\n",
              "      <td>Villeray / St-Michel / Parc Extension</td>\n",
              "      <td>4</td>\n",
              "      <td>1.0</td>\n",
              "      <td>1.0</td>\n",
              "      <td>294738.3</td>\n",
              "      <td>5044817.2</td>\n",
              "      <td>-73.628847</td>\n",
              "      <td>45.543197</td>\n",
              "    </tr>\n",
              "    <tr>\n",
              "      <th>4</th>\n",
              "      <td>1178</td>\n",
              "      <td>2015-01-03 21:43:32</td>\n",
              "      <td>Aliments surchauffés</td>\n",
              "      <td>SANS FEU</td>\n",
              "      <td>16</td>\n",
              "      <td>Montréal</td>\n",
              "      <td>Plateau Mont-Royal</td>\n",
              "      <td>11</td>\n",
              "      <td>5.0</td>\n",
              "      <td>1.0</td>\n",
              "      <td>298505.7</td>\n",
              "      <td>5042556.1</td>\n",
              "      <td>-73.580573</td>\n",
              "      <td>45.522895</td>\n",
              "    </tr>\n",
              "  </tbody>\n",
              "</table>\n",
              "</div>"
            ],
            "text/plain": [
              "   INCIDENT_NBR  CREATION_DATE_TIME  ...  LONGITUDE   LATITUDE\n",
              "0          1168 2015-01-03 20:56:02  ... -73.596117  45.458786\n",
              "1          1171 2015-01-03 21:03:52  ... -73.572020  45.583442\n",
              "2          1172 2015-01-03 21:07:00  ... -73.596589  45.560784\n",
              "3          1177 2015-01-03 21:41:46  ... -73.628847  45.543197\n",
              "4          1178 2015-01-03 21:43:32  ... -73.580573  45.522895\n",
              "\n",
              "[5 rows x 14 columns]"
            ]
          },
          "metadata": {
            "tags": []
          },
          "execution_count": 41
        }
      ]
    },
    {
      "cell_type": "code",
      "metadata": {
        "id": "d_JAcvuhOOdG",
        "colab_type": "code",
        "colab": {
          "base_uri": "https://localhost:8080/",
          "height": 351
        },
        "outputId": "959a4f67-1a9f-4f76-d1cd-ddce3fbb1fc7"
      },
      "source": [
        "interventions_df.info()"
      ],
      "execution_count": 42,
      "outputs": [
        {
          "output_type": "stream",
          "text": [
            "<class 'pandas.core.frame.DataFrame'>\n",
            "RangeIndex: 544070 entries, 0 to 544069\n",
            "Data columns (total 14 columns):\n",
            "INCIDENT_NBR          544070 non-null int64\n",
            "CREATION_DATE_TIME    544070 non-null datetime64[ns]\n",
            "INCIDENT_TYPE_DESC    544070 non-null object\n",
            "DESCRIPTION_GROUPE    544064 non-null object\n",
            "CASERNE               544070 non-null int64\n",
            "NOM_VILLE             544070 non-null object\n",
            "NOM_ARROND            544070 non-null object\n",
            "DIVISION              544070 non-null int64\n",
            "NOMBRE_UNITES         543928 non-null float64\n",
            "CIV                   484490 non-null float64\n",
            "MTM8_X                544070 non-null float64\n",
            "MTM8_Y                544070 non-null float64\n",
            "LONGITUDE             544070 non-null float64\n",
            "LATITUDE              544070 non-null float64\n",
            "dtypes: datetime64[ns](1), float64(6), int64(3), object(4)\n",
            "memory usage: 58.1+ MB\n"
          ],
          "name": "stdout"
        }
      ]
    },
    {
      "cell_type": "code",
      "metadata": {
        "id": "G29_GKU2ORYn",
        "colab_type": "code",
        "colab": {
          "base_uri": "https://localhost:8080/",
          "height": 279
        },
        "outputId": "5b005c45-0b71-421a-cda5-879d837cea62"
      },
      "source": [
        "interventions_df['NOM_ARROND'] = np.where(interventions_df['NOM_ARROND'] == 'Indéterminé', interventions_df['NOM_VILLE'], interventions_df['NOM_ARROND']) \n",
        "interventions_df.head()"
      ],
      "execution_count": 43,
      "outputs": [
        {
          "output_type": "execute_result",
          "data": {
            "text/html": [
              "<div>\n",
              "<style scoped>\n",
              "    .dataframe tbody tr th:only-of-type {\n",
              "        vertical-align: middle;\n",
              "    }\n",
              "\n",
              "    .dataframe tbody tr th {\n",
              "        vertical-align: top;\n",
              "    }\n",
              "\n",
              "    .dataframe thead th {\n",
              "        text-align: right;\n",
              "    }\n",
              "</style>\n",
              "<table border=\"1\" class=\"dataframe\">\n",
              "  <thead>\n",
              "    <tr style=\"text-align: right;\">\n",
              "      <th></th>\n",
              "      <th>INCIDENT_NBR</th>\n",
              "      <th>CREATION_DATE_TIME</th>\n",
              "      <th>INCIDENT_TYPE_DESC</th>\n",
              "      <th>DESCRIPTION_GROUPE</th>\n",
              "      <th>CASERNE</th>\n",
              "      <th>NOM_VILLE</th>\n",
              "      <th>NOM_ARROND</th>\n",
              "      <th>DIVISION</th>\n",
              "      <th>NOMBRE_UNITES</th>\n",
              "      <th>CIV</th>\n",
              "      <th>MTM8_X</th>\n",
              "      <th>MTM8_Y</th>\n",
              "      <th>LONGITUDE</th>\n",
              "      <th>LATITUDE</th>\n",
              "    </tr>\n",
              "  </thead>\n",
              "  <tbody>\n",
              "    <tr>\n",
              "      <th>0</th>\n",
              "      <td>1168</td>\n",
              "      <td>2015-01-03 20:56:02</td>\n",
              "      <td>Premier répondant</td>\n",
              "      <td>1-REPOND</td>\n",
              "      <td>33</td>\n",
              "      <td>Montréal</td>\n",
              "      <td>Sud-Ouest</td>\n",
              "      <td>8</td>\n",
              "      <td>1.0</td>\n",
              "      <td>1.0</td>\n",
              "      <td>297283.0</td>\n",
              "      <td>5035433.1</td>\n",
              "      <td>-73.596117</td>\n",
              "      <td>45.458786</td>\n",
              "    </tr>\n",
              "    <tr>\n",
              "      <th>1</th>\n",
              "      <td>1171</td>\n",
              "      <td>2015-01-03 21:03:52</td>\n",
              "      <td>Alarme privé ou locale</td>\n",
              "      <td>Alarmes-incendies</td>\n",
              "      <td>22</td>\n",
              "      <td>Montréal</td>\n",
              "      <td>Saint-Léonard</td>\n",
              "      <td>4</td>\n",
              "      <td>4.0</td>\n",
              "      <td>1.0</td>\n",
              "      <td>299180.0</td>\n",
              "      <td>5049284.2</td>\n",
              "      <td>-73.572020</td>\n",
              "      <td>45.583442</td>\n",
              "    </tr>\n",
              "    <tr>\n",
              "      <th>2</th>\n",
              "      <td>1172</td>\n",
              "      <td>2015-01-03 21:07:00</td>\n",
              "      <td>Premier répondant</td>\n",
              "      <td>1-REPOND</td>\n",
              "      <td>9</td>\n",
              "      <td>Montréal</td>\n",
              "      <td>Villeray / St-Michel / Parc Extension</td>\n",
              "      <td>4</td>\n",
              "      <td>1.0</td>\n",
              "      <td>1.0</td>\n",
              "      <td>297259.6</td>\n",
              "      <td>5046768.2</td>\n",
              "      <td>-73.596589</td>\n",
              "      <td>45.560784</td>\n",
              "    </tr>\n",
              "    <tr>\n",
              "      <th>3</th>\n",
              "      <td>1177</td>\n",
              "      <td>2015-01-03 21:41:46</td>\n",
              "      <td>Premier répondant</td>\n",
              "      <td>1-REPOND</td>\n",
              "      <td>37</td>\n",
              "      <td>Montréal</td>\n",
              "      <td>Villeray / St-Michel / Parc Extension</td>\n",
              "      <td>4</td>\n",
              "      <td>1.0</td>\n",
              "      <td>1.0</td>\n",
              "      <td>294738.3</td>\n",
              "      <td>5044817.2</td>\n",
              "      <td>-73.628847</td>\n",
              "      <td>45.543197</td>\n",
              "    </tr>\n",
              "    <tr>\n",
              "      <th>4</th>\n",
              "      <td>1178</td>\n",
              "      <td>2015-01-03 21:43:32</td>\n",
              "      <td>Aliments surchauffés</td>\n",
              "      <td>SANS FEU</td>\n",
              "      <td>16</td>\n",
              "      <td>Montréal</td>\n",
              "      <td>Plateau Mont-Royal</td>\n",
              "      <td>11</td>\n",
              "      <td>5.0</td>\n",
              "      <td>1.0</td>\n",
              "      <td>298505.7</td>\n",
              "      <td>5042556.1</td>\n",
              "      <td>-73.580573</td>\n",
              "      <td>45.522895</td>\n",
              "    </tr>\n",
              "  </tbody>\n",
              "</table>\n",
              "</div>"
            ],
            "text/plain": [
              "   INCIDENT_NBR  CREATION_DATE_TIME  ...  LONGITUDE   LATITUDE\n",
              "0          1168 2015-01-03 20:56:02  ... -73.596117  45.458786\n",
              "1          1171 2015-01-03 21:03:52  ... -73.572020  45.583442\n",
              "2          1172 2015-01-03 21:07:00  ... -73.596589  45.560784\n",
              "3          1177 2015-01-03 21:41:46  ... -73.628847  45.543197\n",
              "4          1178 2015-01-03 21:43:32  ... -73.580573  45.522895\n",
              "\n",
              "[5 rows x 14 columns]"
            ]
          },
          "metadata": {
            "tags": []
          },
          "execution_count": 43
        }
      ]
    },
    {
      "cell_type": "code",
      "metadata": {
        "id": "03-taz9YORcv",
        "colab_type": "code",
        "colab": {}
      },
      "source": [
        "fire_types = [\n",
        "'10-22 avec feu',\n",
        "'Feu de champ *',\n",
        "'Ac.vic. feu train/m√©tro F7/DES',\n",
        "'Acc. sans vict. av. feu - ext.',\n",
        "'Acc. sans vict. av. feu-tunnel',\n",
        "'Acc. s-vict. av. feu - pont',\n",
        "'Acc. s-vict. av. feu - v.r.',\n",
        "'Acc. s-vict. av. feu-b√¢timent',\n",
        "'Acc. s-vict. feu - train/m√©tro',\n",
        "'Acc. vict. feu - tunnel F7/MOU',\n",
        "'Acc. victime feu - b√¢timent',\n",
        "'Acc. victime feu - pont',\n",
        "'Acc. victime feu - voie rapide',\n",
        "'Acc. victime feu ext.',\n",
        "'D√©chets en feu',\n",
        "'Feu / 2e Alerte',\n",
        "'Feu / 3e Alerte',\n",
        "'Feu / 4e Alerte',\n",
        "'Feu / 5e Alerte',\n",
        "'Feu / Agravation possible',\n",
        "'Feu d\\'auto (voie rapide)',\n",
        "'Feu de b√¢timent',\n",
        "'Feu de chemin√©e *',\n",
        "'Feu de cuisson',\n",
        "'Feu de nature √©lectrique',\n",
        "'Feu de navire/b√¢teau',\n",
        "'Feu de v√©hicule ext√©rieur',\n",
        "'Feu de v√©hicule int√©rieur',\n",
        "'Feu de v√©hicule sur pont',\n",
        "'feu de v√©hicule tunnel F7/MOU',\n",
        "'Feu v√©h. convoi (train/m√©tro)',\n",
        "'M√©tro b√¢timent /10-22 avec feu',\n",
        "'M√©tro b√¢timent /10-22 sans feu',\n",
        "'Senteur de feu √† l\\'ext√©rieur]']\n",
        "\n",
        "interventions_df['IS_FIRE'] = interventions_df['INCIDENT_TYPE_DESC'].isin(fire_types)"
      ],
      "execution_count": 0,
      "outputs": []
    },
    {
      "cell_type": "code",
      "metadata": {
        "id": "5F_IKu8HORfO",
        "colab_type": "code",
        "colab": {
          "base_uri": "https://localhost:8080/",
          "height": 350
        },
        "outputId": "f36bbf99-dba2-4ed5-c7be-4e213adea6da"
      },
      "source": [
        "interventions_df.head()"
      ],
      "execution_count": 45,
      "outputs": [
        {
          "output_type": "execute_result",
          "data": {
            "text/html": [
              "<div>\n",
              "<style scoped>\n",
              "    .dataframe tbody tr th:only-of-type {\n",
              "        vertical-align: middle;\n",
              "    }\n",
              "\n",
              "    .dataframe tbody tr th {\n",
              "        vertical-align: top;\n",
              "    }\n",
              "\n",
              "    .dataframe thead th {\n",
              "        text-align: right;\n",
              "    }\n",
              "</style>\n",
              "<table border=\"1\" class=\"dataframe\">\n",
              "  <thead>\n",
              "    <tr style=\"text-align: right;\">\n",
              "      <th></th>\n",
              "      <th>INCIDENT_NBR</th>\n",
              "      <th>CREATION_DATE_TIME</th>\n",
              "      <th>INCIDENT_TYPE_DESC</th>\n",
              "      <th>DESCRIPTION_GROUPE</th>\n",
              "      <th>CASERNE</th>\n",
              "      <th>NOM_VILLE</th>\n",
              "      <th>NOM_ARROND</th>\n",
              "      <th>DIVISION</th>\n",
              "      <th>NOMBRE_UNITES</th>\n",
              "      <th>CIV</th>\n",
              "      <th>MTM8_X</th>\n",
              "      <th>MTM8_Y</th>\n",
              "      <th>LONGITUDE</th>\n",
              "      <th>LATITUDE</th>\n",
              "      <th>IS_FIRE</th>\n",
              "    </tr>\n",
              "  </thead>\n",
              "  <tbody>\n",
              "    <tr>\n",
              "      <th>0</th>\n",
              "      <td>1168</td>\n",
              "      <td>2015-01-03 20:56:02</td>\n",
              "      <td>Premier répondant</td>\n",
              "      <td>1-REPOND</td>\n",
              "      <td>33</td>\n",
              "      <td>Montréal</td>\n",
              "      <td>Sud-Ouest</td>\n",
              "      <td>8</td>\n",
              "      <td>1.0</td>\n",
              "      <td>1.0</td>\n",
              "      <td>297283.0</td>\n",
              "      <td>5035433.1</td>\n",
              "      <td>-73.596117</td>\n",
              "      <td>45.458786</td>\n",
              "      <td>False</td>\n",
              "    </tr>\n",
              "    <tr>\n",
              "      <th>1</th>\n",
              "      <td>1171</td>\n",
              "      <td>2015-01-03 21:03:52</td>\n",
              "      <td>Alarme privé ou locale</td>\n",
              "      <td>Alarmes-incendies</td>\n",
              "      <td>22</td>\n",
              "      <td>Montréal</td>\n",
              "      <td>Saint-Léonard</td>\n",
              "      <td>4</td>\n",
              "      <td>4.0</td>\n",
              "      <td>1.0</td>\n",
              "      <td>299180.0</td>\n",
              "      <td>5049284.2</td>\n",
              "      <td>-73.572020</td>\n",
              "      <td>45.583442</td>\n",
              "      <td>False</td>\n",
              "    </tr>\n",
              "    <tr>\n",
              "      <th>2</th>\n",
              "      <td>1172</td>\n",
              "      <td>2015-01-03 21:07:00</td>\n",
              "      <td>Premier répondant</td>\n",
              "      <td>1-REPOND</td>\n",
              "      <td>9</td>\n",
              "      <td>Montréal</td>\n",
              "      <td>Villeray / St-Michel / Parc Extension</td>\n",
              "      <td>4</td>\n",
              "      <td>1.0</td>\n",
              "      <td>1.0</td>\n",
              "      <td>297259.6</td>\n",
              "      <td>5046768.2</td>\n",
              "      <td>-73.596589</td>\n",
              "      <td>45.560784</td>\n",
              "      <td>False</td>\n",
              "    </tr>\n",
              "    <tr>\n",
              "      <th>3</th>\n",
              "      <td>1177</td>\n",
              "      <td>2015-01-03 21:41:46</td>\n",
              "      <td>Premier répondant</td>\n",
              "      <td>1-REPOND</td>\n",
              "      <td>37</td>\n",
              "      <td>Montréal</td>\n",
              "      <td>Villeray / St-Michel / Parc Extension</td>\n",
              "      <td>4</td>\n",
              "      <td>1.0</td>\n",
              "      <td>1.0</td>\n",
              "      <td>294738.3</td>\n",
              "      <td>5044817.2</td>\n",
              "      <td>-73.628847</td>\n",
              "      <td>45.543197</td>\n",
              "      <td>False</td>\n",
              "    </tr>\n",
              "    <tr>\n",
              "      <th>4</th>\n",
              "      <td>1178</td>\n",
              "      <td>2015-01-03 21:43:32</td>\n",
              "      <td>Aliments surchauffés</td>\n",
              "      <td>SANS FEU</td>\n",
              "      <td>16</td>\n",
              "      <td>Montréal</td>\n",
              "      <td>Plateau Mont-Royal</td>\n",
              "      <td>11</td>\n",
              "      <td>5.0</td>\n",
              "      <td>1.0</td>\n",
              "      <td>298505.7</td>\n",
              "      <td>5042556.1</td>\n",
              "      <td>-73.580573</td>\n",
              "      <td>45.522895</td>\n",
              "      <td>False</td>\n",
              "    </tr>\n",
              "  </tbody>\n",
              "</table>\n",
              "</div>"
            ],
            "text/plain": [
              "   INCIDENT_NBR  CREATION_DATE_TIME  ...   LATITUDE IS_FIRE\n",
              "0          1168 2015-01-03 20:56:02  ...  45.458786   False\n",
              "1          1171 2015-01-03 21:03:52  ...  45.583442   False\n",
              "2          1172 2015-01-03 21:07:00  ...  45.560784   False\n",
              "3          1177 2015-01-03 21:41:46  ...  45.543197   False\n",
              "4          1178 2015-01-03 21:43:32  ...  45.522895   False\n",
              "\n",
              "[5 rows x 15 columns]"
            ]
          },
          "metadata": {
            "tags": []
          },
          "execution_count": 45
        }
      ]
    },
    {
      "cell_type": "code",
      "metadata": {
        "id": "GD_U9H4fORhv",
        "colab_type": "code",
        "colab": {
          "base_uri": "https://localhost:8080/",
          "height": 417
        },
        "outputId": "bbac2a87-d536-4a7a-83c5-ae5e02159f1b"
      },
      "source": [
        "interventions_df['Day'] = pd.DatetimeIndex(interventions_df['CREATION_DATE_TIME']).day\n",
        "interventions_df['Month'] = pd.DatetimeIndex(interventions_df['CREATION_DATE_TIME']).month\n",
        "interventions_df['Time1'] = pd.DatetimeIndex(interventions_df['CREATION_DATE_TIME']).time\n",
        "interventions_df['Time2'] = '1970-01-01T' + interventions_df['Time1'].map(str)\n",
        "interventions_df['Time3'] = interventions_df['Time2'].apply(lambda x: np.datetime64(x))\n",
        "interventions_df['Time4'] = (interventions_df['Time3'] - np.datetime64('1970-01-01 00:00:00')).apply(lambda x: x.total_seconds())\n",
        "interventions_df.head()"
      ],
      "execution_count": 46,
      "outputs": [
        {
          "output_type": "execute_result",
          "data": {
            "text/html": [
              "<div>\n",
              "<style scoped>\n",
              "    .dataframe tbody tr th:only-of-type {\n",
              "        vertical-align: middle;\n",
              "    }\n",
              "\n",
              "    .dataframe tbody tr th {\n",
              "        vertical-align: top;\n",
              "    }\n",
              "\n",
              "    .dataframe thead th {\n",
              "        text-align: right;\n",
              "    }\n",
              "</style>\n",
              "<table border=\"1\" class=\"dataframe\">\n",
              "  <thead>\n",
              "    <tr style=\"text-align: right;\">\n",
              "      <th></th>\n",
              "      <th>INCIDENT_NBR</th>\n",
              "      <th>CREATION_DATE_TIME</th>\n",
              "      <th>INCIDENT_TYPE_DESC</th>\n",
              "      <th>DESCRIPTION_GROUPE</th>\n",
              "      <th>CASERNE</th>\n",
              "      <th>NOM_VILLE</th>\n",
              "      <th>NOM_ARROND</th>\n",
              "      <th>DIVISION</th>\n",
              "      <th>NOMBRE_UNITES</th>\n",
              "      <th>CIV</th>\n",
              "      <th>MTM8_X</th>\n",
              "      <th>MTM8_Y</th>\n",
              "      <th>LONGITUDE</th>\n",
              "      <th>LATITUDE</th>\n",
              "      <th>IS_FIRE</th>\n",
              "      <th>Day</th>\n",
              "      <th>Month</th>\n",
              "      <th>Time1</th>\n",
              "      <th>Time2</th>\n",
              "      <th>Time3</th>\n",
              "      <th>Time4</th>\n",
              "    </tr>\n",
              "  </thead>\n",
              "  <tbody>\n",
              "    <tr>\n",
              "      <th>0</th>\n",
              "      <td>1168</td>\n",
              "      <td>2015-01-03 20:56:02</td>\n",
              "      <td>Premier répondant</td>\n",
              "      <td>1-REPOND</td>\n",
              "      <td>33</td>\n",
              "      <td>Montréal</td>\n",
              "      <td>Sud-Ouest</td>\n",
              "      <td>8</td>\n",
              "      <td>1.0</td>\n",
              "      <td>1.0</td>\n",
              "      <td>297283.0</td>\n",
              "      <td>5035433.1</td>\n",
              "      <td>-73.596117</td>\n",
              "      <td>45.458786</td>\n",
              "      <td>False</td>\n",
              "      <td>3</td>\n",
              "      <td>1</td>\n",
              "      <td>20:56:02</td>\n",
              "      <td>1970-01-01T20:56:02</td>\n",
              "      <td>1970-01-01 20:56:02</td>\n",
              "      <td>75362.0</td>\n",
              "    </tr>\n",
              "    <tr>\n",
              "      <th>1</th>\n",
              "      <td>1171</td>\n",
              "      <td>2015-01-03 21:03:52</td>\n",
              "      <td>Alarme privé ou locale</td>\n",
              "      <td>Alarmes-incendies</td>\n",
              "      <td>22</td>\n",
              "      <td>Montréal</td>\n",
              "      <td>Saint-Léonard</td>\n",
              "      <td>4</td>\n",
              "      <td>4.0</td>\n",
              "      <td>1.0</td>\n",
              "      <td>299180.0</td>\n",
              "      <td>5049284.2</td>\n",
              "      <td>-73.572020</td>\n",
              "      <td>45.583442</td>\n",
              "      <td>False</td>\n",
              "      <td>3</td>\n",
              "      <td>1</td>\n",
              "      <td>21:03:52</td>\n",
              "      <td>1970-01-01T21:03:52</td>\n",
              "      <td>1970-01-01 21:03:52</td>\n",
              "      <td>75832.0</td>\n",
              "    </tr>\n",
              "    <tr>\n",
              "      <th>2</th>\n",
              "      <td>1172</td>\n",
              "      <td>2015-01-03 21:07:00</td>\n",
              "      <td>Premier répondant</td>\n",
              "      <td>1-REPOND</td>\n",
              "      <td>9</td>\n",
              "      <td>Montréal</td>\n",
              "      <td>Villeray / St-Michel / Parc Extension</td>\n",
              "      <td>4</td>\n",
              "      <td>1.0</td>\n",
              "      <td>1.0</td>\n",
              "      <td>297259.6</td>\n",
              "      <td>5046768.2</td>\n",
              "      <td>-73.596589</td>\n",
              "      <td>45.560784</td>\n",
              "      <td>False</td>\n",
              "      <td>3</td>\n",
              "      <td>1</td>\n",
              "      <td>21:07:00</td>\n",
              "      <td>1970-01-01T21:07:00</td>\n",
              "      <td>1970-01-01 21:07:00</td>\n",
              "      <td>76020.0</td>\n",
              "    </tr>\n",
              "    <tr>\n",
              "      <th>3</th>\n",
              "      <td>1177</td>\n",
              "      <td>2015-01-03 21:41:46</td>\n",
              "      <td>Premier répondant</td>\n",
              "      <td>1-REPOND</td>\n",
              "      <td>37</td>\n",
              "      <td>Montréal</td>\n",
              "      <td>Villeray / St-Michel / Parc Extension</td>\n",
              "      <td>4</td>\n",
              "      <td>1.0</td>\n",
              "      <td>1.0</td>\n",
              "      <td>294738.3</td>\n",
              "      <td>5044817.2</td>\n",
              "      <td>-73.628847</td>\n",
              "      <td>45.543197</td>\n",
              "      <td>False</td>\n",
              "      <td>3</td>\n",
              "      <td>1</td>\n",
              "      <td>21:41:46</td>\n",
              "      <td>1970-01-01T21:41:46</td>\n",
              "      <td>1970-01-01 21:41:46</td>\n",
              "      <td>78106.0</td>\n",
              "    </tr>\n",
              "    <tr>\n",
              "      <th>4</th>\n",
              "      <td>1178</td>\n",
              "      <td>2015-01-03 21:43:32</td>\n",
              "      <td>Aliments surchauffés</td>\n",
              "      <td>SANS FEU</td>\n",
              "      <td>16</td>\n",
              "      <td>Montréal</td>\n",
              "      <td>Plateau Mont-Royal</td>\n",
              "      <td>11</td>\n",
              "      <td>5.0</td>\n",
              "      <td>1.0</td>\n",
              "      <td>298505.7</td>\n",
              "      <td>5042556.1</td>\n",
              "      <td>-73.580573</td>\n",
              "      <td>45.522895</td>\n",
              "      <td>False</td>\n",
              "      <td>3</td>\n",
              "      <td>1</td>\n",
              "      <td>21:43:32</td>\n",
              "      <td>1970-01-01T21:43:32</td>\n",
              "      <td>1970-01-01 21:43:32</td>\n",
              "      <td>78212.0</td>\n",
              "    </tr>\n",
              "  </tbody>\n",
              "</table>\n",
              "</div>"
            ],
            "text/plain": [
              "   INCIDENT_NBR  CREATION_DATE_TIME  ...               Time3    Time4\n",
              "0          1168 2015-01-03 20:56:02  ... 1970-01-01 20:56:02  75362.0\n",
              "1          1171 2015-01-03 21:03:52  ... 1970-01-01 21:03:52  75832.0\n",
              "2          1172 2015-01-03 21:07:00  ... 1970-01-01 21:07:00  76020.0\n",
              "3          1177 2015-01-03 21:41:46  ... 1970-01-01 21:41:46  78106.0\n",
              "4          1178 2015-01-03 21:43:32  ... 1970-01-01 21:43:32  78212.0\n",
              "\n",
              "[5 rows x 21 columns]"
            ]
          },
          "metadata": {
            "tags": []
          },
          "execution_count": 46
        }
      ]
    },
    {
      "cell_type": "code",
      "metadata": {
        "id": "ZgBMi9ryORkM",
        "colab_type": "code",
        "colab": {
          "base_uri": "https://localhost:8080/",
          "height": 417
        },
        "outputId": "38e8e1a9-6f6f-4e27-8420-53c349024237"
      },
      "source": [
        "bins = [0, 10800, 21600, 32400, 43200, 54000, 64800,75600.0, 86400.0]\n",
        "interventions_df['TIME_BUCKET'] = np.searchsorted(bins, interventions_df['Time4'].values)\n",
        "interventions_df.head()"
      ],
      "execution_count": 47,
      "outputs": [
        {
          "output_type": "execute_result",
          "data": {
            "text/html": [
              "<div>\n",
              "<style scoped>\n",
              "    .dataframe tbody tr th:only-of-type {\n",
              "        vertical-align: middle;\n",
              "    }\n",
              "\n",
              "    .dataframe tbody tr th {\n",
              "        vertical-align: top;\n",
              "    }\n",
              "\n",
              "    .dataframe thead th {\n",
              "        text-align: right;\n",
              "    }\n",
              "</style>\n",
              "<table border=\"1\" class=\"dataframe\">\n",
              "  <thead>\n",
              "    <tr style=\"text-align: right;\">\n",
              "      <th></th>\n",
              "      <th>INCIDENT_NBR</th>\n",
              "      <th>CREATION_DATE_TIME</th>\n",
              "      <th>INCIDENT_TYPE_DESC</th>\n",
              "      <th>DESCRIPTION_GROUPE</th>\n",
              "      <th>CASERNE</th>\n",
              "      <th>NOM_VILLE</th>\n",
              "      <th>NOM_ARROND</th>\n",
              "      <th>DIVISION</th>\n",
              "      <th>NOMBRE_UNITES</th>\n",
              "      <th>CIV</th>\n",
              "      <th>MTM8_X</th>\n",
              "      <th>MTM8_Y</th>\n",
              "      <th>LONGITUDE</th>\n",
              "      <th>LATITUDE</th>\n",
              "      <th>IS_FIRE</th>\n",
              "      <th>Day</th>\n",
              "      <th>Month</th>\n",
              "      <th>Time1</th>\n",
              "      <th>Time2</th>\n",
              "      <th>Time3</th>\n",
              "      <th>Time4</th>\n",
              "      <th>TIME_BUCKET</th>\n",
              "    </tr>\n",
              "  </thead>\n",
              "  <tbody>\n",
              "    <tr>\n",
              "      <th>0</th>\n",
              "      <td>1168</td>\n",
              "      <td>2015-01-03 20:56:02</td>\n",
              "      <td>Premier répondant</td>\n",
              "      <td>1-REPOND</td>\n",
              "      <td>33</td>\n",
              "      <td>Montréal</td>\n",
              "      <td>Sud-Ouest</td>\n",
              "      <td>8</td>\n",
              "      <td>1.0</td>\n",
              "      <td>1.0</td>\n",
              "      <td>297283.0</td>\n",
              "      <td>5035433.1</td>\n",
              "      <td>-73.596117</td>\n",
              "      <td>45.458786</td>\n",
              "      <td>False</td>\n",
              "      <td>3</td>\n",
              "      <td>1</td>\n",
              "      <td>20:56:02</td>\n",
              "      <td>1970-01-01T20:56:02</td>\n",
              "      <td>1970-01-01 20:56:02</td>\n",
              "      <td>75362.0</td>\n",
              "      <td>7</td>\n",
              "    </tr>\n",
              "    <tr>\n",
              "      <th>1</th>\n",
              "      <td>1171</td>\n",
              "      <td>2015-01-03 21:03:52</td>\n",
              "      <td>Alarme privé ou locale</td>\n",
              "      <td>Alarmes-incendies</td>\n",
              "      <td>22</td>\n",
              "      <td>Montréal</td>\n",
              "      <td>Saint-Léonard</td>\n",
              "      <td>4</td>\n",
              "      <td>4.0</td>\n",
              "      <td>1.0</td>\n",
              "      <td>299180.0</td>\n",
              "      <td>5049284.2</td>\n",
              "      <td>-73.572020</td>\n",
              "      <td>45.583442</td>\n",
              "      <td>False</td>\n",
              "      <td>3</td>\n",
              "      <td>1</td>\n",
              "      <td>21:03:52</td>\n",
              "      <td>1970-01-01T21:03:52</td>\n",
              "      <td>1970-01-01 21:03:52</td>\n",
              "      <td>75832.0</td>\n",
              "      <td>8</td>\n",
              "    </tr>\n",
              "    <tr>\n",
              "      <th>2</th>\n",
              "      <td>1172</td>\n",
              "      <td>2015-01-03 21:07:00</td>\n",
              "      <td>Premier répondant</td>\n",
              "      <td>1-REPOND</td>\n",
              "      <td>9</td>\n",
              "      <td>Montréal</td>\n",
              "      <td>Villeray / St-Michel / Parc Extension</td>\n",
              "      <td>4</td>\n",
              "      <td>1.0</td>\n",
              "      <td>1.0</td>\n",
              "      <td>297259.6</td>\n",
              "      <td>5046768.2</td>\n",
              "      <td>-73.596589</td>\n",
              "      <td>45.560784</td>\n",
              "      <td>False</td>\n",
              "      <td>3</td>\n",
              "      <td>1</td>\n",
              "      <td>21:07:00</td>\n",
              "      <td>1970-01-01T21:07:00</td>\n",
              "      <td>1970-01-01 21:07:00</td>\n",
              "      <td>76020.0</td>\n",
              "      <td>8</td>\n",
              "    </tr>\n",
              "    <tr>\n",
              "      <th>3</th>\n",
              "      <td>1177</td>\n",
              "      <td>2015-01-03 21:41:46</td>\n",
              "      <td>Premier répondant</td>\n",
              "      <td>1-REPOND</td>\n",
              "      <td>37</td>\n",
              "      <td>Montréal</td>\n",
              "      <td>Villeray / St-Michel / Parc Extension</td>\n",
              "      <td>4</td>\n",
              "      <td>1.0</td>\n",
              "      <td>1.0</td>\n",
              "      <td>294738.3</td>\n",
              "      <td>5044817.2</td>\n",
              "      <td>-73.628847</td>\n",
              "      <td>45.543197</td>\n",
              "      <td>False</td>\n",
              "      <td>3</td>\n",
              "      <td>1</td>\n",
              "      <td>21:41:46</td>\n",
              "      <td>1970-01-01T21:41:46</td>\n",
              "      <td>1970-01-01 21:41:46</td>\n",
              "      <td>78106.0</td>\n",
              "      <td>8</td>\n",
              "    </tr>\n",
              "    <tr>\n",
              "      <th>4</th>\n",
              "      <td>1178</td>\n",
              "      <td>2015-01-03 21:43:32</td>\n",
              "      <td>Aliments surchauffés</td>\n",
              "      <td>SANS FEU</td>\n",
              "      <td>16</td>\n",
              "      <td>Montréal</td>\n",
              "      <td>Plateau Mont-Royal</td>\n",
              "      <td>11</td>\n",
              "      <td>5.0</td>\n",
              "      <td>1.0</td>\n",
              "      <td>298505.7</td>\n",
              "      <td>5042556.1</td>\n",
              "      <td>-73.580573</td>\n",
              "      <td>45.522895</td>\n",
              "      <td>False</td>\n",
              "      <td>3</td>\n",
              "      <td>1</td>\n",
              "      <td>21:43:32</td>\n",
              "      <td>1970-01-01T21:43:32</td>\n",
              "      <td>1970-01-01 21:43:32</td>\n",
              "      <td>78212.0</td>\n",
              "      <td>8</td>\n",
              "    </tr>\n",
              "  </tbody>\n",
              "</table>\n",
              "</div>"
            ],
            "text/plain": [
              "   INCIDENT_NBR  CREATION_DATE_TIME  ...    Time4 TIME_BUCKET\n",
              "0          1168 2015-01-03 20:56:02  ...  75362.0           7\n",
              "1          1171 2015-01-03 21:03:52  ...  75832.0           8\n",
              "2          1172 2015-01-03 21:07:00  ...  76020.0           8\n",
              "3          1177 2015-01-03 21:41:46  ...  78106.0           8\n",
              "4          1178 2015-01-03 21:43:32  ...  78212.0           8\n",
              "\n",
              "[5 rows x 22 columns]"
            ]
          },
          "metadata": {
            "tags": []
          },
          "execution_count": 47
        }
      ]
    },
    {
      "cell_type": "code",
      "metadata": {
        "id": "hAhrw-IDORnG",
        "colab_type": "code",
        "colab": {
          "base_uri": "https://localhost:8080/",
          "height": 195
        },
        "outputId": "33d92ab4-8dbd-44a5-a0f4-50787d5f1a21"
      },
      "source": [
        "data_train = interventions_df[['Month', 'Day','NOM_ARROND',  'TIME_BUCKET','IS_FIRE']]\n",
        "data_train.head()"
      ],
      "execution_count": 48,
      "outputs": [
        {
          "output_type": "execute_result",
          "data": {
            "text/html": [
              "<div>\n",
              "<style scoped>\n",
              "    .dataframe tbody tr th:only-of-type {\n",
              "        vertical-align: middle;\n",
              "    }\n",
              "\n",
              "    .dataframe tbody tr th {\n",
              "        vertical-align: top;\n",
              "    }\n",
              "\n",
              "    .dataframe thead th {\n",
              "        text-align: right;\n",
              "    }\n",
              "</style>\n",
              "<table border=\"1\" class=\"dataframe\">\n",
              "  <thead>\n",
              "    <tr style=\"text-align: right;\">\n",
              "      <th></th>\n",
              "      <th>Month</th>\n",
              "      <th>Day</th>\n",
              "      <th>NOM_ARROND</th>\n",
              "      <th>TIME_BUCKET</th>\n",
              "      <th>IS_FIRE</th>\n",
              "    </tr>\n",
              "  </thead>\n",
              "  <tbody>\n",
              "    <tr>\n",
              "      <th>0</th>\n",
              "      <td>1</td>\n",
              "      <td>3</td>\n",
              "      <td>Sud-Ouest</td>\n",
              "      <td>7</td>\n",
              "      <td>False</td>\n",
              "    </tr>\n",
              "    <tr>\n",
              "      <th>1</th>\n",
              "      <td>1</td>\n",
              "      <td>3</td>\n",
              "      <td>Saint-Léonard</td>\n",
              "      <td>8</td>\n",
              "      <td>False</td>\n",
              "    </tr>\n",
              "    <tr>\n",
              "      <th>2</th>\n",
              "      <td>1</td>\n",
              "      <td>3</td>\n",
              "      <td>Villeray / St-Michel / Parc Extension</td>\n",
              "      <td>8</td>\n",
              "      <td>False</td>\n",
              "    </tr>\n",
              "    <tr>\n",
              "      <th>3</th>\n",
              "      <td>1</td>\n",
              "      <td>3</td>\n",
              "      <td>Villeray / St-Michel / Parc Extension</td>\n",
              "      <td>8</td>\n",
              "      <td>False</td>\n",
              "    </tr>\n",
              "    <tr>\n",
              "      <th>4</th>\n",
              "      <td>1</td>\n",
              "      <td>3</td>\n",
              "      <td>Plateau Mont-Royal</td>\n",
              "      <td>8</td>\n",
              "      <td>False</td>\n",
              "    </tr>\n",
              "  </tbody>\n",
              "</table>\n",
              "</div>"
            ],
            "text/plain": [
              "   Month  Day                             NOM_ARROND  TIME_BUCKET  IS_FIRE\n",
              "0      1    3                              Sud-Ouest            7    False\n",
              "1      1    3                          Saint-Léonard            8    False\n",
              "2      1    3  Villeray / St-Michel / Parc Extension            8    False\n",
              "3      1    3  Villeray / St-Michel / Parc Extension            8    False\n",
              "4      1    3                     Plateau Mont-Royal            8    False"
            ]
          },
          "metadata": {
            "tags": []
          },
          "execution_count": 48
        }
      ]
    },
    {
      "cell_type": "code",
      "metadata": {
        "id": "2H-ZmFE_ORpp",
        "colab_type": "code",
        "colab": {
          "base_uri": "https://localhost:8080/",
          "height": 195
        },
        "outputId": "7a72689b-a091-4102-facd-79294bcec3f0"
      },
      "source": [
        "data_train = pd.DataFrame({'count' : data_train.groupby( ['Month','Day', 'NOM_ARROND','TIME_BUCKET','IS_FIRE'] ).size()}).reset_index()\n",
        "data_train.head()"
      ],
      "execution_count": 49,
      "outputs": [
        {
          "output_type": "execute_result",
          "data": {
            "text/html": [
              "<div>\n",
              "<style scoped>\n",
              "    .dataframe tbody tr th:only-of-type {\n",
              "        vertical-align: middle;\n",
              "    }\n",
              "\n",
              "    .dataframe tbody tr th {\n",
              "        vertical-align: top;\n",
              "    }\n",
              "\n",
              "    .dataframe thead th {\n",
              "        text-align: right;\n",
              "    }\n",
              "</style>\n",
              "<table border=\"1\" class=\"dataframe\">\n",
              "  <thead>\n",
              "    <tr style=\"text-align: right;\">\n",
              "      <th></th>\n",
              "      <th>Month</th>\n",
              "      <th>Day</th>\n",
              "      <th>NOM_ARROND</th>\n",
              "      <th>TIME_BUCKET</th>\n",
              "      <th>IS_FIRE</th>\n",
              "      <th>count</th>\n",
              "    </tr>\n",
              "  </thead>\n",
              "  <tbody>\n",
              "    <tr>\n",
              "      <th>0</th>\n",
              "      <td>1</td>\n",
              "      <td>1</td>\n",
              "      <td>Ahuntsic / Cartierville</td>\n",
              "      <td>1</td>\n",
              "      <td>False</td>\n",
              "      <td>13</td>\n",
              "    </tr>\n",
              "    <tr>\n",
              "      <th>1</th>\n",
              "      <td>1</td>\n",
              "      <td>1</td>\n",
              "      <td>Ahuntsic / Cartierville</td>\n",
              "      <td>2</td>\n",
              "      <td>False</td>\n",
              "      <td>11</td>\n",
              "    </tr>\n",
              "    <tr>\n",
              "      <th>2</th>\n",
              "      <td>1</td>\n",
              "      <td>1</td>\n",
              "      <td>Ahuntsic / Cartierville</td>\n",
              "      <td>2</td>\n",
              "      <td>True</td>\n",
              "      <td>1</td>\n",
              "    </tr>\n",
              "    <tr>\n",
              "      <th>3</th>\n",
              "      <td>1</td>\n",
              "      <td>1</td>\n",
              "      <td>Ahuntsic / Cartierville</td>\n",
              "      <td>3</td>\n",
              "      <td>False</td>\n",
              "      <td>11</td>\n",
              "    </tr>\n",
              "    <tr>\n",
              "      <th>4</th>\n",
              "      <td>1</td>\n",
              "      <td>1</td>\n",
              "      <td>Ahuntsic / Cartierville</td>\n",
              "      <td>4</td>\n",
              "      <td>False</td>\n",
              "      <td>16</td>\n",
              "    </tr>\n",
              "  </tbody>\n",
              "</table>\n",
              "</div>"
            ],
            "text/plain": [
              "   Month  Day               NOM_ARROND  TIME_BUCKET  IS_FIRE  count\n",
              "0      1    1  Ahuntsic / Cartierville            1    False     13\n",
              "1      1    1  Ahuntsic / Cartierville            2    False     11\n",
              "2      1    1  Ahuntsic / Cartierville            2     True      1\n",
              "3      1    1  Ahuntsic / Cartierville            3    False     11\n",
              "4      1    1  Ahuntsic / Cartierville            4    False     16"
            ]
          },
          "metadata": {
            "tags": []
          },
          "execution_count": 49
        }
      ]
    },
    {
      "cell_type": "code",
      "metadata": {
        "id": "syV50lzeORsH",
        "colab_type": "code",
        "colab": {
          "base_uri": "https://localhost:8080/",
          "height": 210
        },
        "outputId": "79eabdb4-0f8c-45ef-8dc2-3eb7b6b8b8a7"
      },
      "source": [
        "data_train.info()"
      ],
      "execution_count": 50,
      "outputs": [
        {
          "output_type": "stream",
          "text": [
            "<class 'pandas.core.frame.DataFrame'>\n",
            "RangeIndex: 84376 entries, 0 to 84375\n",
            "Data columns (total 6 columns):\n",
            "Month          84376 non-null int64\n",
            "Day            84376 non-null int64\n",
            "NOM_ARROND     84376 non-null object\n",
            "TIME_BUCKET    84376 non-null int64\n",
            "IS_FIRE        84376 non-null bool\n",
            "count          84376 non-null int64\n",
            "dtypes: bool(1), int64(4), object(1)\n",
            "memory usage: 3.3+ MB\n"
          ],
          "name": "stdout"
        }
      ]
    },
    {
      "cell_type": "code",
      "metadata": {
        "id": "II4X6sX4ORuu",
        "colab_type": "code",
        "colab": {
          "base_uri": "https://localhost:8080/",
          "height": 316
        },
        "outputId": "b7922074-1b73-4b7d-bb33-2dd62926f522"
      },
      "source": [
        "data_train[data_train['IS_FIRE'] == True].hist(column='TIME_BUCKET')"
      ],
      "execution_count": 51,
      "outputs": [
        {
          "output_type": "execute_result",
          "data": {
            "text/plain": [
              "array([[<matplotlib.axes._subplots.AxesSubplot object at 0x7fb93facda58>]],\n",
              "      dtype=object)"
            ]
          },
          "metadata": {
            "tags": []
          },
          "execution_count": 51
        },
        {
          "output_type": "display_data",
          "data": {
            "image/png": "[encoded data removed]",
            "text/plain": [
              "<Figure size 432x288 with 1 Axes>"
            ]
          },
          "metadata": {
            "tags": []
          }
        }
      ]
    },
    {
      "cell_type": "code",
      "metadata": {
        "id": "G8ShdV67ORxO",
        "colab_type": "code",
        "colab": {
          "base_uri": "https://localhost:8080/",
          "height": 364
        },
        "outputId": "d46a80d6-77ff-484d-d6fa-114585856ab2"
      },
      "source": [
        "y_train = data_train['IS_FIRE']\n",
        "\n",
        "pd.value_counts(y_train).plot.bar()\n",
        "plt.title('Fire Counts Histogram')\n",
        "plt.xlabel('Class')\n",
        "plt.ylabel('Frequency')\n",
        "y_train.value_counts()"
      ],
      "execution_count": 52,
      "outputs": [
        {
          "output_type": "execute_result",
          "data": {
            "text/plain": [
              "False    76703\n",
              "True      7673\n",
              "Name: IS_FIRE, dtype: int64"
            ]
          },
          "metadata": {
            "tags": []
          },
          "execution_count": 52
        },
        {
          "output_type": "display_data",
          "data": {
            "image/png": "[encoded data removed]",
            "text/plain": [
              "<Figure size 432x288 with 1 Axes>"
            ]
          },
          "metadata": {
            "tags": []
          }
        }
      ]
    },
    {
      "cell_type": "code",
      "metadata": {
        "id": "i4DfBjHRORzz",
        "colab_type": "code",
        "colab": {
          "base_uri": "https://localhost:8080/",
          "height": 125
        },
        "outputId": "16384459-a323-4422-c318-d3e3d624aa53"
      },
      "source": [
        "from sklearn.preprocessing import LabelEncoder\n",
        "from sklearn.preprocessing import OneHotEncoder\n",
        "\n",
        "labelencoder = LabelEncoder()\n",
        "arrond_df = pd.DataFrame(labelencoder.fit_transform(data_train['NOM_ARROND']))\n",
        "\n",
        "onehotencoder = OneHotEncoder()\n",
        "arrond_df = pd.DataFrame(onehotencoder.fit_transform(arrond_df).toarray())\n",
        "arrond_df.shape"
      ],
      "execution_count": 53,
      "outputs": [
        {
          "output_type": "stream",
          "text": [
            "/usr/local/lib/python3.6/dist-packages/sklearn/preprocessing/_encoders.py:415: FutureWarning: The handling of integer data will change in version 0.22. Currently, the categories are determined based on the range [0, max(values)], while in the future they will be determined based on the unique values.\n",
            "If you want the future behaviour and silence this warning, you can specify \"categories='auto'\".\n",
            "In case you used a LabelEncoder before this OneHotEncoder to convert the categories to integers, then you can now use the OneHotEncoder directly.\n",
            "  warnings.warn(msg, FutureWarning)\n"
          ],
          "name": "stderr"
        },
        {
          "output_type": "execute_result",
          "data": {
            "text/plain": [
              "(84376, 35)"
            ]
          },
          "metadata": {
            "tags": []
          },
          "execution_count": 53
        }
      ]
    },
    {
      "cell_type": "code",
      "metadata": {
        "id": "DsJAUvKNOR2Q",
        "colab_type": "code",
        "colab": {
          "base_uri": "https://localhost:8080/",
          "height": 195
        },
        "outputId": "dffd5977-13e2-431b-9961-424b75d1b650"
      },
      "source": [
        "X_train = pd.concat([arrond_df, data_train[['Month','Day','TIME_BUCKET']]], axis=1)\n",
        "X_train.head()"
      ],
      "execution_count": 54,
      "outputs": [
        {
          "output_type": "execute_result",
          "data": {
            "text/html": [
              "<div>\n",
              "<style scoped>\n",
              "    .dataframe tbody tr th:only-of-type {\n",
              "        vertical-align: middle;\n",
              "    }\n",
              "\n",
              "    .dataframe tbody tr th {\n",
              "        vertical-align: top;\n",
              "    }\n",
              "\n",
              "    .dataframe thead th {\n",
              "        text-align: right;\n",
              "    }\n",
              "</style>\n",
              "<table border=\"1\" class=\"dataframe\">\n",
              "  <thead>\n",
              "    <tr style=\"text-align: right;\">\n",
              "      <th></th>\n",
              "      <th>0</th>\n",
              "      <th>1</th>\n",
              "      <th>2</th>\n",
              "      <th>3</th>\n",
              "      <th>4</th>\n",
              "      <th>5</th>\n",
              "      <th>6</th>\n",
              "      <th>7</th>\n",
              "      <th>8</th>\n",
              "      <th>9</th>\n",
              "      <th>10</th>\n",
              "      <th>11</th>\n",
              "      <th>12</th>\n",
              "      <th>13</th>\n",
              "      <th>14</th>\n",
              "      <th>15</th>\n",
              "      <th>16</th>\n",
              "      <th>17</th>\n",
              "      <th>18</th>\n",
              "      <th>19</th>\n",
              "      <th>20</th>\n",
              "      <th>21</th>\n",
              "      <th>22</th>\n",
              "      <th>23</th>\n",
              "      <th>24</th>\n",
              "      <th>25</th>\n",
              "      <th>26</th>\n",
              "      <th>27</th>\n",
              "      <th>28</th>\n",
              "      <th>29</th>\n",
              "      <th>30</th>\n",
              "      <th>31</th>\n",
              "      <th>32</th>\n",
              "      <th>33</th>\n",
              "      <th>34</th>\n",
              "      <th>Month</th>\n",
              "      <th>Day</th>\n",
              "      <th>TIME_BUCKET</th>\n",
              "    </tr>\n",
              "  </thead>\n",
              "  <tbody>\n",
              "    <tr>\n",
              "      <th>0</th>\n",
              "      <td>1.0</td>\n",
              "      <td>0.0</td>\n",
              "      <td>0.0</td>\n",
              "      <td>0.0</td>\n",
              "      <td>0.0</td>\n",
              "      <td>0.0</td>\n",
              "      <td>0.0</td>\n",
              "      <td>0.0</td>\n",
              "      <td>0.0</td>\n",
              "      <td>0.0</td>\n",
              "      <td>0.0</td>\n",
              "      <td>0.0</td>\n",
              "      <td>0.0</td>\n",
              "      <td>0.0</td>\n",
              "      <td>0.0</td>\n",
              "      <td>0.0</td>\n",
              "      <td>0.0</td>\n",
              "      <td>0.0</td>\n",
              "      <td>0.0</td>\n",
              "      <td>0.0</td>\n",
              "      <td>0.0</td>\n",
              "      <td>0.0</td>\n",
              "      <td>0.0</td>\n",
              "      <td>0.0</td>\n",
              "      <td>0.0</td>\n",
              "      <td>0.0</td>\n",
              "      <td>0.0</td>\n",
              "      <td>0.0</td>\n",
              "      <td>0.0</td>\n",
              "      <td>0.0</td>\n",
              "      <td>0.0</td>\n",
              "      <td>0.0</td>\n",
              "      <td>0.0</td>\n",
              "      <td>0.0</td>\n",
              "      <td>0.0</td>\n",
              "      <td>1</td>\n",
              "      <td>1</td>\n",
              "      <td>1</td>\n",
              "    </tr>\n",
              "    <tr>\n",
              "      <th>1</th>\n",
              "      <td>1.0</td>\n",
              "      <td>0.0</td>\n",
              "      <td>0.0</td>\n",
              "      <td>0.0</td>\n",
              "      <td>0.0</td>\n",
              "      <td>0.0</td>\n",
              "      <td>0.0</td>\n",
              "      <td>0.0</td>\n",
              "      <td>0.0</td>\n",
              "      <td>0.0</td>\n",
              "      <td>0.0</td>\n",
              "      <td>0.0</td>\n",
              "      <td>0.0</td>\n",
              "      <td>0.0</td>\n",
              "      <td>0.0</td>\n",
              "      <td>0.0</td>\n",
              "      <td>0.0</td>\n",
              "      <td>0.0</td>\n",
              "      <td>0.0</td>\n",
              "      <td>0.0</td>\n",
              "      <td>0.0</td>\n",
              "      <td>0.0</td>\n",
              "      <td>0.0</td>\n",
              "      <td>0.0</td>\n",
              "      <td>0.0</td>\n",
              "      <td>0.0</td>\n",
              "      <td>0.0</td>\n",
              "      <td>0.0</td>\n",
              "      <td>0.0</td>\n",
              "      <td>0.0</td>\n",
              "      <td>0.0</td>\n",
              "      <td>0.0</td>\n",
              "      <td>0.0</td>\n",
              "      <td>0.0</td>\n",
              "      <td>0.0</td>\n",
              "      <td>1</td>\n",
              "      <td>1</td>\n",
              "      <td>2</td>\n",
              "    </tr>\n",
              "    <tr>\n",
              "      <th>2</th>\n",
              "      <td>1.0</td>\n",
              "      <td>0.0</td>\n",
              "      <td>0.0</td>\n",
              "      <td>0.0</td>\n",
              "      <td>0.0</td>\n",
              "      <td>0.0</td>\n",
              "      <td>0.0</td>\n",
              "      <td>0.0</td>\n",
              "      <td>0.0</td>\n",
              "      <td>0.0</td>\n",
              "      <td>0.0</td>\n",
              "      <td>0.0</td>\n",
              "      <td>0.0</td>\n",
              "      <td>0.0</td>\n",
              "      <td>0.0</td>\n",
              "      <td>0.0</td>\n",
              "      <td>0.0</td>\n",
              "      <td>0.0</td>\n",
              "      <td>0.0</td>\n",
              "      <td>0.0</td>\n",
              "      <td>0.0</td>\n",
              "      <td>0.0</td>\n",
              "      <td>0.0</td>\n",
              "      <td>0.0</td>\n",
              "      <td>0.0</td>\n",
              "      <td>0.0</td>\n",
              "      <td>0.0</td>\n",
              "      <td>0.0</td>\n",
              "      <td>0.0</td>\n",
              "      <td>0.0</td>\n",
              "      <td>0.0</td>\n",
              "      <td>0.0</td>\n",
              "      <td>0.0</td>\n",
              "      <td>0.0</td>\n",
              "      <td>0.0</td>\n",
              "      <td>1</td>\n",
              "      <td>1</td>\n",
              "      <td>2</td>\n",
              "    </tr>\n",
              "    <tr>\n",
              "      <th>3</th>\n",
              "      <td>1.0</td>\n",
              "      <td>0.0</td>\n",
              "      <td>0.0</td>\n",
              "      <td>0.0</td>\n",
              "      <td>0.0</td>\n",
              "      <td>0.0</td>\n",
              "      <td>0.0</td>\n",
              "      <td>0.0</td>\n",
              "      <td>0.0</td>\n",
              "      <td>0.0</td>\n",
              "      <td>0.0</td>\n",
              "      <td>0.0</td>\n",
              "      <td>0.0</td>\n",
              "      <td>0.0</td>\n",
              "      <td>0.0</td>\n",
              "      <td>0.0</td>\n",
              "      <td>0.0</td>\n",
              "      <td>0.0</td>\n",
              "      <td>0.0</td>\n",
              "      <td>0.0</td>\n",
              "      <td>0.0</td>\n",
              "      <td>0.0</td>\n",
              "      <td>0.0</td>\n",
              "      <td>0.0</td>\n",
              "      <td>0.0</td>\n",
              "      <td>0.0</td>\n",
              "      <td>0.0</td>\n",
              "      <td>0.0</td>\n",
              "      <td>0.0</td>\n",
              "      <td>0.0</td>\n",
              "      <td>0.0</td>\n",
              "      <td>0.0</td>\n",
              "      <td>0.0</td>\n",
              "      <td>0.0</td>\n",
              "      <td>0.0</td>\n",
              "      <td>1</td>\n",
              "      <td>1</td>\n",
              "      <td>3</td>\n",
              "    </tr>\n",
              "    <tr>\n",
              "      <th>4</th>\n",
              "      <td>1.0</td>\n",
              "      <td>0.0</td>\n",
              "      <td>0.0</td>\n",
              "      <td>0.0</td>\n",
              "      <td>0.0</td>\n",
              "      <td>0.0</td>\n",
              "      <td>0.0</td>\n",
              "      <td>0.0</td>\n",
              "      <td>0.0</td>\n",
              "      <td>0.0</td>\n",
              "      <td>0.0</td>\n",
              "      <td>0.0</td>\n",
              "      <td>0.0</td>\n",
              "      <td>0.0</td>\n",
              "      <td>0.0</td>\n",
              "      <td>0.0</td>\n",
              "      <td>0.0</td>\n",
              "      <td>0.0</td>\n",
              "      <td>0.0</td>\n",
              "      <td>0.0</td>\n",
              "      <td>0.0</td>\n",
              "      <td>0.0</td>\n",
              "      <td>0.0</td>\n",
              "      <td>0.0</td>\n",
              "      <td>0.0</td>\n",
              "      <td>0.0</td>\n",
              "      <td>0.0</td>\n",
              "      <td>0.0</td>\n",
              "      <td>0.0</td>\n",
              "      <td>0.0</td>\n",
              "      <td>0.0</td>\n",
              "      <td>0.0</td>\n",
              "      <td>0.0</td>\n",
              "      <td>0.0</td>\n",
              "      <td>0.0</td>\n",
              "      <td>1</td>\n",
              "      <td>1</td>\n",
              "      <td>4</td>\n",
              "    </tr>\n",
              "  </tbody>\n",
              "</table>\n",
              "</div>"
            ],
            "text/plain": [
              "     0    1    2    3    4    5  ...   32   33   34  Month  Day  TIME_BUCKET\n",
              "0  1.0  0.0  0.0  0.0  0.0  0.0  ...  0.0  0.0  0.0      1    1            1\n",
              "1  1.0  0.0  0.0  0.0  0.0  0.0  ...  0.0  0.0  0.0      1    1            2\n",
              "2  1.0  0.0  0.0  0.0  0.0  0.0  ...  0.0  0.0  0.0      1    1            2\n",
              "3  1.0  0.0  0.0  0.0  0.0  0.0  ...  0.0  0.0  0.0      1    1            3\n",
              "4  1.0  0.0  0.0  0.0  0.0  0.0  ...  0.0  0.0  0.0      1    1            4\n",
              "\n",
              "[5 rows x 38 columns]"
            ]
          },
          "metadata": {
            "tags": []
          },
          "execution_count": 54
        }
      ]
    },
    {
      "cell_type": "code",
      "metadata": {
        "id": "HFuCzpD_OR46",
        "colab_type": "code",
        "colab": {}
      },
      "source": [
        "from imblearn.over_sampling import SMOTE\n",
        "\n",
        "smote = SMOTE(sampling_strategy='minority')\n",
        "X_sm, y_sm = smote.fit_sample(X_train, y_train)\n",
        "X = X_sm\n",
        "y = y_sm"
      ],
      "execution_count": 0,
      "outputs": []
    },
    {
      "cell_type": "code",
      "metadata": {
        "id": "0oQJnYAGOR7f",
        "colab_type": "code",
        "colab": {
          "base_uri": "https://localhost:8080/",
          "height": 364
        },
        "outputId": "ea4591ce-a7d9-4309-a9df-21ce5f502bee"
      },
      "source": [
        "pd.value_counts(y_sm).plot.bar()\n",
        "plt.title('Fire Counts Histogram')\n",
        "plt.xlabel('Class')\n",
        "plt.ylabel('Frequency')\n",
        "pd.value_counts(y_sm)"
      ],
      "execution_count": 56,
      "outputs": [
        {
          "output_type": "execute_result",
          "data": {
            "text/plain": [
              "True     76703\n",
              "False    76703\n",
              "dtype: int64"
            ]
          },
          "metadata": {
            "tags": []
          },
          "execution_count": 56
        },
        {
          "output_type": "display_data",
          "data": {
            "image/png": "[encoded data removed]",
            "text/plain": [
              "<Figure size 432x288 with 1 Axes>"
            ]
          },
          "metadata": {
            "tags": []
          }
        }
      ]
    },
    {
      "cell_type": "code",
      "metadata": {
        "id": "BomdxJN9OR9x",
        "colab_type": "code",
        "colab": {
          "base_uri": "https://localhost:8080/",
          "height": 34
        },
        "outputId": "a316a060-86fe-4b4c-d1b0-e70eedfebb1d"
      },
      "source": [
        "y_sm.shape"
      ],
      "execution_count": 57,
      "outputs": [
        {
          "output_type": "execute_result",
          "data": {
            "text/plain": [
              "(153406,)"
            ]
          },
          "metadata": {
            "tags": []
          },
          "execution_count": 57
        }
      ]
    },
    {
      "cell_type": "code",
      "metadata": {
        "id": "Do52JcRnOSAW",
        "colab_type": "code",
        "colab": {
          "base_uri": "https://localhost:8080/",
          "height": 34
        },
        "outputId": "fcd837c0-a442-4564-ca50-1109c6269ade"
      },
      "source": [
        "X_sm.shape"
      ],
      "execution_count": 58,
      "outputs": [
        {
          "output_type": "execute_result",
          "data": {
            "text/plain": [
              "(153406, 38)"
            ]
          },
          "metadata": {
            "tags": []
          },
          "execution_count": 58
        }
      ]
    },
    {
      "cell_type": "code",
      "metadata": {
        "id": "6pou6F8EOSCy",
        "colab_type": "code",
        "colab": {}
      },
      "source": [
        "from sklearn import linear_model\n",
        "from sklearn.linear_model import LogisticRegression\n",
        "from sklearn.ensemble import RandomForestClassifier\n",
        "from sklearn.linear_model import Perceptron\n",
        "from sklearn.linear_model import SGDClassifier\n",
        "from sklearn.tree import DecisionTreeClassifier\n",
        "from sklearn.neighbors import KNeighborsClassifier\n",
        "from sklearn.svm import SVC, LinearSVC\n",
        "from sklearn.naive_bayes import GaussianNB"
      ],
      "execution_count": 0,
      "outputs": []
    },
    {
      "cell_type": "code",
      "metadata": {
        "id": "ZgE0cGV3OSFB",
        "colab_type": "code",
        "colab": {}
      },
      "source": [
        "from sklearn.model_selection import train_test_split\n",
        "\n",
        "X_train, X_test, Y_train, Y_test = train_test_split(X_sm, y_sm, test_size=0.2)"
      ],
      "execution_count": 0,
      "outputs": []
    },
    {
      "cell_type": "code",
      "metadata": {
        "id": "cTpzoEkAOSHk",
        "colab_type": "code",
        "colab": {}
      },
      "source": [
        "sgd = linear_model.SGDClassifier(max_iter=5, tol=None)\n",
        "sgd.fit(X_train, Y_train)\n",
        "Y_pred = sgd.predict(X_test)\n",
        "\n",
        "sgd.score(X_train, Y_train)\n",
        "\n",
        "acc_sgd = round(sgd.score(X_train, Y_train) * 100, 2)"
      ],
      "execution_count": 0,
      "outputs": []
    },
    {
      "cell_type": "code",
      "metadata": {
        "id": "3hU7MpxUOSKv",
        "colab_type": "code",
        "colab": {}
      },
      "source": [
        "random_forest = RandomForestClassifier(n_estimators=100)\n",
        "random_forest.fit(X_train, Y_train)\n",
        "\n",
        "Y_prediction = random_forest.predict(X_test)\n",
        "\n",
        "random_forest.score(X_train, Y_train)\n",
        "acc_random_forest = round(random_forest.score(X_train, Y_train) * 100, 2)"
      ],
      "execution_count": 0,
      "outputs": []
    },
    {
      "cell_type": "code",
      "metadata": {
        "id": "yj0i41_4OkES",
        "colab_type": "code",
        "colab": {
          "base_uri": "https://localhost:8080/",
          "height": 72
        },
        "outputId": "7432b087-fb7a-4cf0-c417-65d9147fe962"
      },
      "source": [
        "logreg = LogisticRegression()\n",
        "logreg.fit(X_train, Y_train)\n",
        "\n",
        "Y_pred = logreg.predict(X_test)\n",
        "\n",
        "acc_log = round(logreg.score(X_train, Y_train) * 100, 2)"
      ],
      "execution_count": 63,
      "outputs": [
        {
          "output_type": "stream",
          "text": [
            "/usr/local/lib/python3.6/dist-packages/sklearn/linear_model/logistic.py:432: FutureWarning: Default solver will be changed to 'lbfgs' in 0.22. Specify a solver to silence this warning.\n",
            "  FutureWarning)\n"
          ],
          "name": "stderr"
        }
      ]
    },
    {
      "cell_type": "code",
      "metadata": {
        "id": "Oa96KZgiOkG4",
        "colab_type": "code",
        "colab": {}
      },
      "source": [
        "knn = KNeighborsClassifier(n_neighbors = 3) \n",
        "knn.fit(X_train, Y_train)  \n",
        "Y_pred = knn.predict(X_test)  \n",
        "acc_knn = round(knn.score(X_train, Y_train) * 100, 2)"
      ],
      "execution_count": 0,
      "outputs": []
    },
    {
      "cell_type": "code",
      "metadata": {
        "id": "SRyDb99AOkJD",
        "colab_type": "code",
        "colab": {}
      },
      "source": [
        "gaussian = GaussianNB() \n",
        "gaussian.fit(X_train, Y_train)  \n",
        "Y_pred = gaussian.predict(X_test)  \n",
        "acc_gaussian = round(gaussian.score(X_train, Y_train) * 100, 2)"
      ],
      "execution_count": 0,
      "outputs": []
    },
    {
      "cell_type": "code",
      "metadata": {
        "id": "E1xiDq--OkOk",
        "colab_type": "code",
        "colab": {
          "base_uri": "https://localhost:8080/",
          "height": 52
        },
        "outputId": "6f355e18-8b20-4457-e558-53997cd5a96c"
      },
      "source": [
        "linear_svc = LinearSVC()\n",
        "linear_svc.fit(X_train, Y_train)\n",
        "\n",
        "Y_pred = linear_svc.predict(X_test)\n",
        "\n",
        "acc_linear_svc = round(linear_svc.score(X_train, Y_train) * 100, 2)"
      ],
      "execution_count": 66,
      "outputs": [
        {
          "output_type": "stream",
          "text": [
            "/usr/local/lib/python3.6/dist-packages/sklearn/svm/base.py:929: ConvergenceWarning: Liblinear failed to converge, increase the number of iterations.\n",
            "  \"the number of iterations.\", ConvergenceWarning)\n"
          ],
          "name": "stderr"
        }
      ]
    },
    {
      "cell_type": "code",
      "metadata": {
        "id": "wykDr1b_OkSk",
        "colab_type": "code",
        "colab": {}
      },
      "source": [
        "decision_tree = DecisionTreeClassifier() \n",
        "decision_tree.fit(X_train, Y_train)  \n",
        "Y_pred = decision_tree.predict(X_test)  \n",
        "acc_decision_tree = round(decision_tree.score(X_train, Y_train) * 100, 2)"
      ],
      "execution_count": 0,
      "outputs": []
    },
    {
      "cell_type": "code",
      "metadata": {
        "id": "29n2szBdOkWB",
        "colab_type": "code",
        "colab": {
          "base_uri": "https://localhost:8080/",
          "height": 72
        },
        "outputId": "1db49c29-27a3-4b9c-cd4f-14f8608802fc"
      },
      "source": [
        "perceptron = Perceptron(max_iter=5)\n",
        "perceptron.fit(X_train, Y_train)\n",
        "\n",
        "Y_pred = perceptron.predict(X_test)\n",
        "\n",
        "acc_perceptron = round(perceptron.score(X_train, Y_train) * 100, 2)"
      ],
      "execution_count": 68,
      "outputs": [
        {
          "output_type": "stream",
          "text": [
            "/usr/local/lib/python3.6/dist-packages/sklearn/linear_model/stochastic_gradient.py:561: ConvergenceWarning: Maximum number of iteration reached before convergence. Consider increasing max_iter to improve the fit.\n",
            "  ConvergenceWarning)\n"
          ],
          "name": "stderr"
        }
      ]
    },
    {
      "cell_type": "code",
      "metadata": {
        "id": "JTfgqjTyOkaI",
        "colab_type": "code",
        "colab": {
          "base_uri": "https://localhost:8080/",
          "height": 314
        },
        "outputId": "d05afd71-8244-4170-b8ba-55864fc7a37f"
      },
      "source": [
        "results = pd.DataFrame({\n",
        "    'Model': ['Support Vector Machines', 'KNN', 'Logistic Regression', \n",
        "              'Random Forest', 'Naive Bayes', 'Perceptron', \n",
        "              'Stochastic Gradient Decent', \n",
        "              'Decision Tree'],\n",
        "    'Score': [acc_linear_svc, acc_knn, acc_log, \n",
        "              acc_random_forest, acc_gaussian, acc_perceptron, \n",
        "              acc_sgd, acc_decision_tree]})\n",
        "result_df = results.sort_values(by='Score', ascending=False)\n",
        "result_df = result_df.set_index('Score')\n",
        "result_df.head(9)"
      ],
      "execution_count": 69,
      "outputs": [
        {
          "output_type": "execute_result",
          "data": {
            "text/html": [
              "<div>\n",
              "<style scoped>\n",
              "    .dataframe tbody tr th:only-of-type {\n",
              "        vertical-align: middle;\n",
              "    }\n",
              "\n",
              "    .dataframe tbody tr th {\n",
              "        vertical-align: top;\n",
              "    }\n",
              "\n",
              "    .dataframe thead th {\n",
              "        text-align: right;\n",
              "    }\n",
              "</style>\n",
              "<table border=\"1\" class=\"dataframe\">\n",
              "  <thead>\n",
              "    <tr style=\"text-align: right;\">\n",
              "      <th></th>\n",
              "      <th>Model</th>\n",
              "    </tr>\n",
              "    <tr>\n",
              "      <th>Score</th>\n",
              "      <th></th>\n",
              "    </tr>\n",
              "  </thead>\n",
              "  <tbody>\n",
              "    <tr>\n",
              "      <th>96.17</th>\n",
              "      <td>Random Forest</td>\n",
              "    </tr>\n",
              "    <tr>\n",
              "      <th>96.17</th>\n",
              "      <td>Decision Tree</td>\n",
              "    </tr>\n",
              "    <tr>\n",
              "      <th>89.82</th>\n",
              "      <td>KNN</td>\n",
              "    </tr>\n",
              "    <tr>\n",
              "      <th>66.22</th>\n",
              "      <td>Support Vector Machines</td>\n",
              "    </tr>\n",
              "    <tr>\n",
              "      <th>66.09</th>\n",
              "      <td>Logistic Regression</td>\n",
              "    </tr>\n",
              "    <tr>\n",
              "      <th>64.71</th>\n",
              "      <td>Naive Bayes</td>\n",
              "    </tr>\n",
              "    <tr>\n",
              "      <th>53.10</th>\n",
              "      <td>Perceptron</td>\n",
              "    </tr>\n",
              "    <tr>\n",
              "      <th>51.51</th>\n",
              "      <td>Stochastic Gradient Decent</td>\n",
              "    </tr>\n",
              "  </tbody>\n",
              "</table>\n",
              "</div>"
            ],
            "text/plain": [
              "                            Model\n",
              "Score                            \n",
              "96.17               Random Forest\n",
              "96.17               Decision Tree\n",
              "89.82                         KNN\n",
              "66.22     Support Vector Machines\n",
              "66.09         Logistic Regression\n",
              "64.71                 Naive Bayes\n",
              "53.10                  Perceptron\n",
              "51.51  Stochastic Gradient Decent"
            ]
          },
          "metadata": {
            "tags": []
          },
          "execution_count": 69
        }
      ]
    },
    {
      "cell_type": "code",
      "metadata": {
        "id": "KcDxS1GUOkdx",
        "colab_type": "code",
        "colab": {
          "base_uri": "https://localhost:8080/",
          "height": 87
        },
        "outputId": "55240470-6afd-460f-cb5b-00a127783b7d"
      },
      "source": [
        "from sklearn.model_selection import cross_val_score\n",
        "rf = RandomForestClassifier(n_estimators=100)\n",
        "scores = cross_val_score(rf, X_train, Y_train, cv=10, scoring = \"accuracy\")\n",
        "print(\"Scores:\", scores)\n",
        "print(\"Mean:\", scores.mean())\n",
        "print(\"Standard Deviation:\", scores.std())"
      ],
      "execution_count": 70,
      "outputs": [
        {
          "output_type": "stream",
          "text": [
            "Scores: [0.90092879 0.89603194 0.89774301 0.89903846 0.89765319 0.89765319\n",
            " 0.90270535 0.89602347 0.90335724 0.89814211]\n",
            "Mean: 0.8989276757452878\n",
            "Standard Deviation: 0.0024494363473516103\n"
          ],
          "name": "stdout"
        }
      ]
    },
    {
      "cell_type": "code",
      "metadata": {
        "id": "Ls9tm-jYOkfK",
        "colab_type": "code",
        "colab": {
          "base_uri": "https://localhost:8080/",
          "height": 52
        },
        "outputId": "aeb81e74-37cb-4ed0-9251-10ed7f9c53f0"
      },
      "source": [
        "x_cols = pd.Series(range(0,38))\n",
        "x_cols[35] = 'Month'\n",
        "x_cols[36] = 'Day'\n",
        "x_cols[37] = 'TIME_BUCKET'\n",
        "print(x_cols.values)"
      ],
      "execution_count": 71,
      "outputs": [
        {
          "output_type": "stream",
          "text": [
            "[0 1 2 3 4 5 6 7 8 9 10 11 12 13 14 15 16 17 18 19 20 21 22 23 24 25 26 27\n",
            " 28 29 30 31 32 33 34 'Month' 'Day' 'TIME_BUCKET']\n"
          ],
          "name": "stdout"
        }
      ]
    },
    {
      "cell_type": "code",
      "metadata": {
        "id": "DQ4OJwmTOkpo",
        "colab_type": "code",
        "colab": {
          "base_uri": "https://localhost:8080/",
          "height": 521
        },
        "outputId": "05aec828-0974-4a9f-9a7f-fe96b6549f2b"
      },
      "source": [
        "importances = pd.DataFrame({'feature':x_cols.values,'importance':np.round(random_forest.feature_importances_,3)})\n",
        "importances = importances.sort_values('importance',ascending=False).set_index('feature')\n",
        "importances.head(15)"
      ],
      "execution_count": 72,
      "outputs": [
        {
          "output_type": "execute_result",
          "data": {
            "text/html": [
              "<div>\n",
              "<style scoped>\n",
              "    .dataframe tbody tr th:only-of-type {\n",
              "        vertical-align: middle;\n",
              "    }\n",
              "\n",
              "    .dataframe tbody tr th {\n",
              "        vertical-align: top;\n",
              "    }\n",
              "\n",
              "    .dataframe thead th {\n",
              "        text-align: right;\n",
              "    }\n",
              "</style>\n",
              "<table border=\"1\" class=\"dataframe\">\n",
              "  <thead>\n",
              "    <tr style=\"text-align: right;\">\n",
              "      <th></th>\n",
              "      <th>importance</th>\n",
              "    </tr>\n",
              "    <tr>\n",
              "      <th>feature</th>\n",
              "      <th></th>\n",
              "    </tr>\n",
              "  </thead>\n",
              "  <tbody>\n",
              "    <tr>\n",
              "      <th>Day</th>\n",
              "      <td>0.197</td>\n",
              "    </tr>\n",
              "    <tr>\n",
              "      <th>Month</th>\n",
              "      <td>0.178</td>\n",
              "    </tr>\n",
              "    <tr>\n",
              "      <th>TIME_BUCKET</th>\n",
              "      <td>0.149</td>\n",
              "    </tr>\n",
              "    <tr>\n",
              "      <th>32</th>\n",
              "      <td>0.040</td>\n",
              "    </tr>\n",
              "    <tr>\n",
              "      <th>15</th>\n",
              "      <td>0.036</td>\n",
              "    </tr>\n",
              "    <tr>\n",
              "      <th>5</th>\n",
              "      <td>0.034</td>\n",
              "    </tr>\n",
              "    <tr>\n",
              "      <th>22</th>\n",
              "      <td>0.029</td>\n",
              "    </tr>\n",
              "    <tr>\n",
              "      <th>0</th>\n",
              "      <td>0.029</td>\n",
              "    </tr>\n",
              "    <tr>\n",
              "      <th>24</th>\n",
              "      <td>0.028</td>\n",
              "    </tr>\n",
              "    <tr>\n",
              "      <th>25</th>\n",
              "      <td>0.027</td>\n",
              "    </tr>\n",
              "    <tr>\n",
              "      <th>33</th>\n",
              "      <td>0.024</td>\n",
              "    </tr>\n",
              "    <tr>\n",
              "      <th>30</th>\n",
              "      <td>0.023</td>\n",
              "    </tr>\n",
              "    <tr>\n",
              "      <th>26</th>\n",
              "      <td>0.018</td>\n",
              "    </tr>\n",
              "    <tr>\n",
              "      <th>31</th>\n",
              "      <td>0.014</td>\n",
              "    </tr>\n",
              "    <tr>\n",
              "      <th>18</th>\n",
              "      <td>0.014</td>\n",
              "    </tr>\n",
              "  </tbody>\n",
              "</table>\n",
              "</div>"
            ],
            "text/plain": [
              "             importance\n",
              "feature                \n",
              "Day               0.197\n",
              "Month             0.178\n",
              "TIME_BUCKET       0.149\n",
              "32                0.040\n",
              "15                0.036\n",
              "5                 0.034\n",
              "22                0.029\n",
              "0                 0.029\n",
              "24                0.028\n",
              "25                0.027\n",
              "33                0.024\n",
              "30                0.023\n",
              "26                0.018\n",
              "31                0.014\n",
              "18                0.014"
            ]
          },
          "metadata": {
            "tags": []
          },
          "execution_count": 72
        }
      ]
    },
    {
      "cell_type": "code",
      "metadata": {
        "id": "emuq1aztOkst",
        "colab_type": "code",
        "colab": {
          "base_uri": "https://localhost:8080/",
          "height": 52
        },
        "outputId": "a8310d3b-8dd1-4792-dd55-558b743528ee"
      },
      "source": [
        "from sklearn.model_selection import cross_val_predict\n",
        "from sklearn.metrics import confusion_matrix\n",
        "predictions = cross_val_predict(random_forest, X_train, Y_train, cv=3)\n",
        "confusion_matrix(Y_train, predictions)"
      ],
      "execution_count": 73,
      "outputs": [
        {
          "output_type": "execute_result",
          "data": {
            "text/plain": [
              "array([[55628,  5633],\n",
              "       [ 6778, 54685]])"
            ]
          },
          "metadata": {
            "tags": []
          },
          "execution_count": 73
        }
      ]
    },
    {
      "cell_type": "code",
      "metadata": {
        "id": "_UXIPT2NOk1_",
        "colab_type": "code",
        "colab": {
          "base_uri": "https://localhost:8080/",
          "height": 52
        },
        "outputId": "4c32fc6a-e5e4-4a22-bba7-5d2d62bec3ce"
      },
      "source": [
        "from sklearn.metrics import precision_score, recall_score\n",
        "\n",
        "print(\"Precision:\", precision_score(Y_train, predictions))\n",
        "print(\"Recall:\",recall_score(Y_train, predictions))"
      ],
      "execution_count": 74,
      "outputs": [
        {
          "output_type": "stream",
          "text": [
            "Precision: 0.906611625053881\n",
            "Recall: 0.8897222719359614\n"
          ],
          "name": "stdout"
        }
      ]
    },
    {
      "cell_type": "code",
      "metadata": {
        "id": "XxywDSXQOkX5",
        "colab_type": "code",
        "colab": {
          "base_uri": "https://localhost:8080/",
          "height": 34
        },
        "outputId": "61e32d26-2df5-4ac3-8655-a6a2323e3e52"
      },
      "source": [
        "from sklearn.metrics import f1_score\n",
        "f1_score(Y_train, predictions)"
      ],
      "execution_count": 75,
      "outputs": [
        {
          "output_type": "execute_result",
          "data": {
            "text/plain": [
              "0.8980875506031318"
            ]
          },
          "metadata": {
            "tags": []
          },
          "execution_count": 75
        }
      ]
    },
    {
      "cell_type": "code",
      "metadata": {
        "id": "1AEKfi4LOkQN",
        "colab_type": "code",
        "colab": {
          "base_uri": "https://localhost:8080/",
          "height": 455
        },
        "outputId": "faf1bd43-6db0-4c4d-8f1b-d12a2a5a7602"
      },
      "source": [
        "from sklearn.metrics import precision_recall_curve\n",
        "\n",
        "# getting the probabilities of our predictions\n",
        "y_scores = random_forest.predict_proba(X_train)\n",
        "y_scores = y_scores[:,1]\n",
        "\n",
        "precision, recall, threshold = precision_recall_curve(Y_train, y_scores)\n",
        "def plot_precision_and_recall(precision, recall, threshold):\n",
        "    plt.plot(threshold, precision[:-1], \"r-\", label=\"precision\", linewidth=5)\n",
        "    plt.plot(threshold, recall[:-1], \"b\", label=\"recall\", linewidth=5)\n",
        "    plt.xlabel(\"threshold\", fontsize=19)\n",
        "    plt.legend(loc=\"upper right\", fontsize=19)\n",
        "    plt.ylim([0, 1])\n",
        "\n",
        "plt.figure(figsize=(14, 7))\n",
        "plot_precision_and_recall(precision, recall, threshold)\n",
        "plt.show()"
      ],
      "execution_count": 76,
      "outputs": [
        {
          "output_type": "display_data",
          "data": {
            "image/png": "[encoded data removed]",
            "text/plain": [
              "<Figure size 1008x504 with 1 Axes>"
            ]
          },
          "metadata": {
            "tags": []
          }
        }
      ]
    },
    {
      "cell_type": "code",
      "metadata": {
        "id": "dPFctTSfOkLZ",
        "colab_type": "code",
        "colab": {
          "base_uri": "https://localhost:8080/",
          "height": 451
        },
        "outputId": "c07b8c2a-0670-4e57-d700-8bdb1ce8e764"
      },
      "source": [
        "from sklearn.metrics import roc_curve\n",
        "# compute true positive rate and false positive rate\n",
        "false_positive_rate, true_positive_rate, thresholds = roc_curve(Y_train, y_scores)\n",
        "# plotting them against each other\n",
        "def plot_roc_curve(false_positive_rate, true_positive_rate, label=None):\n",
        "    plt.plot(false_positive_rate, true_positive_rate, linewidth=2, label=label)\n",
        "    plt.plot([0, 1], [0, 1], 'r', linewidth=4)\n",
        "    plt.axis([0, 1, 0, 1])\n",
        "    plt.xlabel('False Positive Rate (FPR)', fontsize=16)\n",
        "    plt.ylabel('True Positive Rate (TPR)', fontsize=16)\n",
        "\n",
        "plt.figure(figsize=(14, 7))\n",
        "plot_roc_curve(false_positive_rate, true_positive_rate)\n",
        "plt.show()"
      ],
      "execution_count": 77,
      "outputs": [
        {
          "output_type": "display_data",
          "data": {
            "image/png": "[encoded data removed]",
            "text/plain": [
              "<Figure size 1008x504 with 1 Axes>"
            ]
          },
          "metadata": {
            "tags": []
          }
        }
      ]
    },
    {
      "cell_type": "code",
      "metadata": {
        "id": "cYBkf-Ckn9ZU",
        "colab_type": "code",
        "colab": {
          "base_uri": "https://localhost:8080/",
          "height": 34
        },
        "outputId": "7d7c7382-c3e7-4749-aa04-ce29113dca89"
      },
      "source": [
        "from sklearn.metrics import roc_auc_score\n",
        "r_a_score = roc_auc_score(Y_train, y_scores)\n",
        "print(\"ROC-AUC-Score:\", r_a_score)"
      ],
      "execution_count": 78,
      "outputs": [
        {
          "output_type": "stream",
          "text": [
            "ROC-AUC-Score: 0.9970463784378292\n"
          ],
          "name": "stdout"
        }
      ]
    },
    {
      "cell_type": "code",
      "metadata": {
        "id": "3I_YC85QuQG4",
        "colab_type": "code",
        "colab": {}
      },
      "source": [
        ""
      ],
      "execution_count": 0,
      "outputs": []
    }
  ]
}